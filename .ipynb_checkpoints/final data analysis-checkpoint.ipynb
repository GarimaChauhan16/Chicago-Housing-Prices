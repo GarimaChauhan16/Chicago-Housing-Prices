{
 "cells": [
  {
   "cell_type": "code",
   "execution_count": null,
   "metadata": {},
   "outputs": [],
   "source": [
    "# Dependencies\n",
    "import requests\n",
    "import json\n",
    "import pandas as pd\n",
    "import matplotlib.pyplot as plt"
   ]
  },
  {
   "cell_type": "code",
   "execution_count": null,
   "metadata": {},
   "outputs": [],
   "source": [
    "#pull in data from csv\n",
    "housing_df=pd.read_csv(\"housing_data.csv\")\n",
    "yelp_complete=pd.read_csv(\"yelp_data.csv\")\n",
    "census_df=pd.read_csv(\"Census_Data/chicago_census_data.csv\")\n",
    "crime_df=pd.read_csv(\"crime_count_by_zip.csv\")"
   ]
  },
  {
   "cell_type": "code",
   "execution_count": null,
   "metadata": {},
   "outputs": [],
   "source": [
    "#merge datasets\n",
    "#make sure zipcode and population is numeric\n",
    "census_pop_df = census_df[['Zipcode','Population']]\n",
    "census_pop_df['Zipcode'] = pd.to_numeric(census_pop_df['Zipcode'])\n",
    "census_pop_df['Population'] = pd.to_numeric(census_pop_df['Population'])\n",
    "crime_df['Zipcode'] = pd.to_numeric(crime_df['Zipcode'])\n",
    "housing_df['Zipcode'] = pd.to_numeric(housing_df['Zipcode'])\n",
    "yelp_complete['Zipcode'] = pd.to_numeric(yelp_complete['Zipcode'])\n",
    "#merge yelp with housing\n",
    "yelp_housing_df = pd.merge(yelp_complete, housing_df, how='inner', on='Zipcode')\n",
    "#merge census pop and yelp\n",
    "yelp_housing_pop_df = pd.merge(census_pop_df, yelp_housing_df, how='inner', on='Zipcode')\n",
    "#merge crime data and census pop\n",
    "crime_pop=pd.merge(crime_df, zipcode_pop_only_df, on = \"Zipcode\")\n",
    "#merge crime pop with housing\n",
    "crime_complete = pd.merge(crime_pop, housing_df, on='Zipcode' )"
   ]
  },
  {
   "cell_type": "code",
   "execution_count": null,
   "metadata": {},
   "outputs": [],
   "source": [
    "#create per 1000 person metrics for yelp data\n",
    "yelp_housing_pop_df['Nightlife per Capita'] = (yelp_housing_pop_df['Total Nightlife']/ yelp_housing_pop_df['Population'])*1000\n",
    "yelp_housing_pop_df['Restaurants per Capita'] = (yelp_housing_pop_df['Total Restaurant']/ yelp_housing_pop_df['Population'])*1000\n",
    "yelp_housing_pop_df['Grocery per Capita'] = (yelp_housing_pop_df['Total Grocery']/ yelp_housing_pop_df['Population'])*1000\n",
    "#create per 1000 person metrics for crime data\n",
    "crime_complete['Crime Per 1000 People']=(crime_complete['Crime Count']/crime_complete['Population'])*1000\n",
    "#output to csv for later\n",
    "yelp_housing_pop_df.to_csv(\"yelp_housing_and_population.csv\", encoding=\"utf-8\", index=False)\n",
    "crime_complete.to_csv(\"Crime_per_Capita_with_Rent_by_zip.csv\", encoding=\"utf-8\", index=False)"
   ]
  },
  {
   "cell_type": "code",
   "execution_count": null,
   "metadata": {},
   "outputs": [],
   "source": [
    "#plot rent vs crime per 1000 people\n",
    "fig, ax1 = plt.subplots()\n",
    "ax1.set_facecolor(\"lavender\")\n",
    "plt.scatter(crime_complete[\"Crime Per 1000 People\"],crime_complete[\"Median Rent\"], edgecolor=\"black\", c=\"blue\", marker='o')\n",
    "plt.grid(color=\"white\")\n",
    "plt.title(\"Median Rent vs. Crime Per 1000 People by Zipcode\")\n",
    "plt.ylabel(\"Median Rent\")\n",
    "plt.xlabel(\"Crime Per 1000 People\")\n",
    "plt.savefig(\"Images/Rent_Vs_Crime.png\", bbox_inches='tight')\n",
    "plt.show()"
   ]
  },
  {
   "cell_type": "code",
   "execution_count": null,
   "metadata": {},
   "outputs": [],
   "source": [
    "#plot nightlife per 1000 people vs rent\n",
    "x = yelp_housing['Nightlife per Capita']\n",
    "y = yelp_housing['Median Rent']\n",
    "\n",
    "plt.scatter(x, y,)\n",
    "plt.xlabel('Nightlife Establishments per 1000')\n",
    "plt.ylabel('Median Rent ($)')\n",
    "plt.title('Median Rent vs.Nightlife Establishments per 1000')\n",
    "plt.savefig('Median Rent vs Nightlife per 1000')\n",
    "plt.show()"
   ]
  },
  {
   "cell_type": "code",
   "execution_count": null,
   "metadata": {},
   "outputs": [],
   "source": [
    "#plot nightlife vs rent\n",
    "x = yelp_housing_df['Total Nightlife']\n",
    "y = yelp_housing_df['Median Rent']\n",
    "\n",
    "plt.scatter(x, y,)\n",
    "plt.xlabel('Number of Nightlife Establishments')\n",
    "plt.ylabel('Median Rent ($)')\n",
    "plt.title('Median Rent vs. Number of Nightlife Establishments per Zipcode')\n",
    "plt.savefig('Median Rent vs Nightlife')\n",
    "plt.show()"
   ]
  },
  {
   "cell_type": "code",
   "execution_count": null,
   "metadata": {},
   "outputs": [],
   "source": [
    "#plot restuarant per 1000 people vs rent\n",
    "x = yelp_housing['Restaurants per Capita']\n",
    "y = yelp_housing['Median Rent']\n",
    "\n",
    "plt.scatter(x, y,)\n",
    "plt.xlabel('Number of Restaurants per 1000')\n",
    "plt.ylabel('Median Rent ($)')\n",
    "plt.title('Median Rent vs. Restaurants per 1000')\n",
    "plt.savefig('Median Rent vs Restaurants per 1000')\n",
    "plt.show()"
   ]
  },
  {
   "cell_type": "code",
   "execution_count": null,
   "metadata": {},
   "outputs": [],
   "source": [
    "#plot restaurant vs rent\n",
    "x = yelp_housing_df['Total Restaurant']\n",
    "y = yelp_housing_df['Median Rent']\n",
    "\n",
    "plt.scatter(x, y,)\n",
    "plt.xlabel('Number of Restaurants')\n",
    "plt.ylabel('Median Rent ($)')\n",
    "plt.title('Median Rent vs. Number of Restaurants per Zipcode')\n",
    "plt.savefig('Median Rent vs Restaurants')\n",
    "plt.show()"
   ]
  },
  {
   "cell_type": "code",
   "execution_count": null,
   "metadata": {},
   "outputs": [],
   "source": [
    "#plot grocery per 1000 people vs rent\n",
    "x = yelp_housing['Grocery per Capita']\n",
    "y = yelp_housing['Median Rent']\n",
    "\n",
    "plt.scatter(x, y,)\n",
    "plt.xlabel('Grocery Stores per 1000')\n",
    "plt.ylabel('Median Rent ($)')\n",
    "plt.title('Median Rent vs. Grocery Stores per 1000')\n",
    "plt.savefig('Median Rent vs Grocery Stores per 1000')\n",
    "plt.show()"
   ]
  },
  {
   "cell_type": "code",
   "execution_count": null,
   "metadata": {},
   "outputs": [],
   "source": [
    "#plot grocery vs rent\n",
    "x = yelp_housing['Total Grocery']\n",
    "y = yelp_housing['Median Rent']\n",
    "\n",
    "plt.scatter(x, y,)\n",
    "plt.xlabel('Number of Grocery Stores')\n",
    "plt.ylabel('Median Rent ($)')\n",
    "plt.title('Median Rent vs. Number of Grocery Stores per Zipcode')\n",
    "plt.savefig('Median Rent vs Grocery Stores')\n",
    "plt.show()"
   ]
  }
 ],
 "metadata": {
  "kernelspec": {
   "display_name": "Python 3",
   "language": "python",
   "name": "python3"
  },
  "language_info": {
   "codemirror_mode": {
    "name": "ipython",
    "version": 3
   },
   "file_extension": ".py",
   "mimetype": "text/x-python",
   "name": "python",
   "nbconvert_exporter": "python",
   "pygments_lexer": "ipython3",
   "version": "3.7.3"
  }
 },
 "nbformat": 4,
 "nbformat_minor": 2
}
