{
 "cells": [
  {
   "cell_type": "code",
   "execution_count": 1,
   "metadata": {},
   "outputs": [],
   "source": [
    "import pandas as pd  \n",
    "import numpy as np \n",
    "from scipy import stats\n",
    "import matplotlib.pyplot as plt  \n",
    "import seaborn as seabornInstance \n",
    "from sklearn.model_selection import train_test_split \n",
    "from sklearn.linear_model import LinearRegression\n",
    "from sklearn import metrics\n",
    "%matplotlib inline"
   ]
  },
  {
   "cell_type": "code",
   "execution_count": 17,
   "metadata": {
    "scrolled": true
   },
   "outputs": [],
   "source": [
    "airbnb_df = pd.read_csv(\"AirBnB_Reviews_Zipcode.csv\")\n",
    "census_df = pd.read_csv(\"housing_census_data.csv\")\n",
    "crime_df = pd.read_csv(\"Crime_per_Capita by zip.csv\")\n",
    "yelp_df = pd.read_csv(\"yelp housing and population.csv\")\n",
    "yelp_df=yelp_df[[\"Nightlife per Capita\", \"Restaurants per Capita\", \"Grocery per Capita\", \"Zipcode\"]]\n",
    "crime_df = crime_df[[\"Zipcode\", \"Crime Per 1000 People\"]]"
   ]
  },
  {
   "cell_type": "code",
   "execution_count": 24,
   "metadata": {},
   "outputs": [],
   "source": [
    "housing_census_df = pd.merge(census_df, airbnb_df, on=\"Zipcode\")\n",
    "yelp_add = pd.merge(housing_census_df, yelp_df, on=\"Zipcode\")\n",
    "all_df = pd.merge(yelp_add, crime_df, on=\"Zipcode\")"
   ]
  },
  {
   "cell_type": "code",
   "execution_count": 25,
   "metadata": {},
   "outputs": [
    {
     "data": {
      "text/plain": [
       "57"
      ]
     },
     "execution_count": 25,
     "metadata": {},
     "output_type": "execute_result"
    }
   ],
   "source": [
    "len(all_df)"
   ]
  },
  {
   "cell_type": "code",
   "execution_count": 26,
   "metadata": {},
   "outputs": [
    {
     "data": {
      "text/html": [
       "<div>\n",
       "<style scoped>\n",
       "    .dataframe tbody tr th:only-of-type {\n",
       "        vertical-align: middle;\n",
       "    }\n",
       "\n",
       "    .dataframe tbody tr th {\n",
       "        vertical-align: top;\n",
       "    }\n",
       "\n",
       "    .dataframe thead th {\n",
       "        text-align: right;\n",
       "    }\n",
       "</style>\n",
       "<table border=\"1\" class=\"dataframe\">\n",
       "  <thead>\n",
       "    <tr style=\"text-align: right;\">\n",
       "      <th></th>\n",
       "      <th>Zipcode</th>\n",
       "      <th>Median Rent</th>\n",
       "      <th>Median Home Value</th>\n",
       "      <th>Population</th>\n",
       "      <th>Median Age</th>\n",
       "      <th>Household Income</th>\n",
       "      <th>Per Capita Income</th>\n",
       "      <th>Poverty Count</th>\n",
       "      <th>Poverty Rate</th>\n",
       "      <th>Review Count</th>\n",
       "      <th>Nightlife per Capita</th>\n",
       "      <th>Restaurants per Capita</th>\n",
       "      <th>Grocery per Capita</th>\n",
       "      <th>Crime Per 1000 People</th>\n",
       "    </tr>\n",
       "  </thead>\n",
       "  <tbody>\n",
       "    <tr>\n",
       "      <th>0</th>\n",
       "      <td>60601</td>\n",
       "      <td>1944</td>\n",
       "      <td>391100.0</td>\n",
       "      <td>13887</td>\n",
       "      <td>37.6</td>\n",
       "      <td>110215</td>\n",
       "      <td>95152</td>\n",
       "      <td>1171</td>\n",
       "      <td>8.432347</td>\n",
       "      <td>11.0</td>\n",
       "      <td>3.384460</td>\n",
       "      <td>10.729459</td>\n",
       "      <td>0.504069</td>\n",
       "      <td>78.274645</td>\n",
       "    </tr>\n",
       "    <tr>\n",
       "      <th>1</th>\n",
       "      <td>60602</td>\n",
       "      <td>1666</td>\n",
       "      <td>NaN</td>\n",
       "      <td>1277</td>\n",
       "      <td>31.1</td>\n",
       "      <td>115774</td>\n",
       "      <td>77279</td>\n",
       "      <td>32</td>\n",
       "      <td>2.505873</td>\n",
       "      <td>19.0</td>\n",
       "      <td>8.613939</td>\n",
       "      <td>61.080658</td>\n",
       "      <td>0.000000</td>\n",
       "      <td>6332.028191</td>\n",
       "    </tr>\n",
       "    <tr>\n",
       "      <th>2</th>\n",
       "      <td>60603</td>\n",
       "      <td>1630</td>\n",
       "      <td>NaN</td>\n",
       "      <td>1197</td>\n",
       "      <td>26.7</td>\n",
       "      <td>140114</td>\n",
       "      <td>106207</td>\n",
       "      <td>261</td>\n",
       "      <td>21.804511</td>\n",
       "      <td>10.0</td>\n",
       "      <td>18.379282</td>\n",
       "      <td>81.035923</td>\n",
       "      <td>0.835422</td>\n",
       "      <td>1742.690058</td>\n",
       "    </tr>\n",
       "    <tr>\n",
       "      <th>3</th>\n",
       "      <td>60604</td>\n",
       "      <td>1835</td>\n",
       "      <td>NaN</td>\n",
       "      <td>668</td>\n",
       "      <td>40.6</td>\n",
       "      <td>114565</td>\n",
       "      <td>130966</td>\n",
       "      <td>127</td>\n",
       "      <td>19.011976</td>\n",
       "      <td>22.0</td>\n",
       "      <td>7.485030</td>\n",
       "      <td>61.377246</td>\n",
       "      <td>0.000000</td>\n",
       "      <td>1589.820359</td>\n",
       "    </tr>\n",
       "    <tr>\n",
       "      <th>4</th>\n",
       "      <td>60605</td>\n",
       "      <td>1865</td>\n",
       "      <td>284100.0</td>\n",
       "      <td>26188</td>\n",
       "      <td>33.6</td>\n",
       "      <td>107811</td>\n",
       "      <td>81144</td>\n",
       "      <td>2312</td>\n",
       "      <td>8.828471</td>\n",
       "      <td>20.0</td>\n",
       "      <td>1.298305</td>\n",
       "      <td>4.314953</td>\n",
       "      <td>0.267298</td>\n",
       "      <td>91.148618</td>\n",
       "    </tr>\n",
       "  </tbody>\n",
       "</table>\n",
       "</div>"
      ],
      "text/plain": [
       "   Zipcode  Median Rent  Median Home Value  Population  Median Age  \\\n",
       "0    60601         1944           391100.0       13887        37.6   \n",
       "1    60602         1666                NaN        1277        31.1   \n",
       "2    60603         1630                NaN        1197        26.7   \n",
       "3    60604         1835                NaN         668        40.6   \n",
       "4    60605         1865           284100.0       26188        33.6   \n",
       "\n",
       "   Household Income  Per Capita Income  Poverty Count  Poverty Rate  \\\n",
       "0            110215              95152           1171      8.432347   \n",
       "1            115774              77279             32      2.505873   \n",
       "2            140114             106207            261     21.804511   \n",
       "3            114565             130966            127     19.011976   \n",
       "4            107811              81144           2312      8.828471   \n",
       "\n",
       "   Review Count  Nightlife per Capita  Restaurants per Capita  \\\n",
       "0          11.0              3.384460               10.729459   \n",
       "1          19.0              8.613939               61.080658   \n",
       "2          10.0             18.379282               81.035923   \n",
       "3          22.0              7.485030               61.377246   \n",
       "4          20.0              1.298305                4.314953   \n",
       "\n",
       "   Grocery per Capita  Crime Per 1000 People  \n",
       "0            0.504069              78.274645  \n",
       "1            0.000000            6332.028191  \n",
       "2            0.835422            1742.690058  \n",
       "3            0.000000            1589.820359  \n",
       "4            0.267298              91.148618  "
      ]
     },
     "execution_count": 26,
     "metadata": {},
     "output_type": "execute_result"
    }
   ],
   "source": [
    "all_df.head()"
   ]
  },
  {
   "cell_type": "code",
   "execution_count": 70,
   "metadata": {},
   "outputs": [
    {
     "data": {
      "text/html": [
       "<div>\n",
       "<style scoped>\n",
       "    .dataframe tbody tr th:only-of-type {\n",
       "        vertical-align: middle;\n",
       "    }\n",
       "\n",
       "    .dataframe tbody tr th {\n",
       "        vertical-align: top;\n",
       "    }\n",
       "\n",
       "    .dataframe thead th {\n",
       "        text-align: right;\n",
       "    }\n",
       "</style>\n",
       "<table border=\"1\" class=\"dataframe\">\n",
       "  <thead>\n",
       "    <tr style=\"text-align: right;\">\n",
       "      <th></th>\n",
       "      <th>Zipcode</th>\n",
       "      <th>Median Rent</th>\n",
       "      <th>Median Home Value</th>\n",
       "      <th>Population</th>\n",
       "      <th>Median Age</th>\n",
       "      <th>Household Income</th>\n",
       "      <th>Per Capita Income</th>\n",
       "      <th>Poverty Count</th>\n",
       "      <th>Poverty Rate</th>\n",
       "      <th>Review Count</th>\n",
       "      <th>Nightlife per Capita</th>\n",
       "      <th>Restaurants per Capita</th>\n",
       "      <th>Grocery per Capita</th>\n",
       "      <th>Crime Per 1000 People</th>\n",
       "      <th>Downtown</th>\n",
       "    </tr>\n",
       "  </thead>\n",
       "  <tbody>\n",
       "    <tr>\n",
       "      <th>0</th>\n",
       "      <td>60601</td>\n",
       "      <td>1944</td>\n",
       "      <td>391100.0</td>\n",
       "      <td>13887</td>\n",
       "      <td>37.6</td>\n",
       "      <td>110215</td>\n",
       "      <td>95152</td>\n",
       "      <td>1171</td>\n",
       "      <td>8.432347</td>\n",
       "      <td>11.0</td>\n",
       "      <td>3.384460</td>\n",
       "      <td>10.729459</td>\n",
       "      <td>0.504069</td>\n",
       "      <td>78.274645</td>\n",
       "      <td>0</td>\n",
       "    </tr>\n",
       "    <tr>\n",
       "      <th>1</th>\n",
       "      <td>60602</td>\n",
       "      <td>1666</td>\n",
       "      <td>NaN</td>\n",
       "      <td>1277</td>\n",
       "      <td>31.1</td>\n",
       "      <td>115774</td>\n",
       "      <td>77279</td>\n",
       "      <td>32</td>\n",
       "      <td>2.505873</td>\n",
       "      <td>19.0</td>\n",
       "      <td>8.613939</td>\n",
       "      <td>61.080658</td>\n",
       "      <td>0.000000</td>\n",
       "      <td>6332.028191</td>\n",
       "      <td>1</td>\n",
       "    </tr>\n",
       "    <tr>\n",
       "      <th>2</th>\n",
       "      <td>60603</td>\n",
       "      <td>1630</td>\n",
       "      <td>NaN</td>\n",
       "      <td>1197</td>\n",
       "      <td>26.7</td>\n",
       "      <td>140114</td>\n",
       "      <td>106207</td>\n",
       "      <td>261</td>\n",
       "      <td>21.804511</td>\n",
       "      <td>10.0</td>\n",
       "      <td>18.379282</td>\n",
       "      <td>81.035923</td>\n",
       "      <td>0.835422</td>\n",
       "      <td>1742.690058</td>\n",
       "      <td>1</td>\n",
       "    </tr>\n",
       "    <tr>\n",
       "      <th>3</th>\n",
       "      <td>60604</td>\n",
       "      <td>1835</td>\n",
       "      <td>NaN</td>\n",
       "      <td>668</td>\n",
       "      <td>40.6</td>\n",
       "      <td>114565</td>\n",
       "      <td>130966</td>\n",
       "      <td>127</td>\n",
       "      <td>19.011976</td>\n",
       "      <td>22.0</td>\n",
       "      <td>7.485030</td>\n",
       "      <td>61.377246</td>\n",
       "      <td>0.000000</td>\n",
       "      <td>1589.820359</td>\n",
       "      <td>1</td>\n",
       "    </tr>\n",
       "    <tr>\n",
       "      <th>4</th>\n",
       "      <td>60605</td>\n",
       "      <td>1865</td>\n",
       "      <td>284100.0</td>\n",
       "      <td>26188</td>\n",
       "      <td>33.6</td>\n",
       "      <td>107811</td>\n",
       "      <td>81144</td>\n",
       "      <td>2312</td>\n",
       "      <td>8.828471</td>\n",
       "      <td>20.0</td>\n",
       "      <td>1.298305</td>\n",
       "      <td>4.314953</td>\n",
       "      <td>0.267298</td>\n",
       "      <td>91.148618</td>\n",
       "      <td>0</td>\n",
       "    </tr>\n",
       "  </tbody>\n",
       "</table>\n",
       "</div>"
      ],
      "text/plain": [
       "   Zipcode  Median Rent  Median Home Value  Population  Median Age  \\\n",
       "0    60601         1944           391100.0       13887        37.6   \n",
       "1    60602         1666                NaN        1277        31.1   \n",
       "2    60603         1630                NaN        1197        26.7   \n",
       "3    60604         1835                NaN         668        40.6   \n",
       "4    60605         1865           284100.0       26188        33.6   \n",
       "\n",
       "   Household Income  Per Capita Income  Poverty Count  Poverty Rate  \\\n",
       "0            110215              95152           1171      8.432347   \n",
       "1            115774              77279             32      2.505873   \n",
       "2            140114             106207            261     21.804511   \n",
       "3            114565             130966            127     19.011976   \n",
       "4            107811              81144           2312      8.828471   \n",
       "\n",
       "   Review Count  Nightlife per Capita  Restaurants per Capita  \\\n",
       "0          11.0              3.384460               10.729459   \n",
       "1          19.0              8.613939               61.080658   \n",
       "2          10.0             18.379282               81.035923   \n",
       "3          22.0              7.485030               61.377246   \n",
       "4          20.0              1.298305                4.314953   \n",
       "\n",
       "   Grocery per Capita  Crime Per 1000 People  Downtown  \n",
       "0            0.504069              78.274645         0  \n",
       "1            0.000000            6332.028191         1  \n",
       "2            0.835422            1742.690058         1  \n",
       "3            0.000000            1589.820359         1  \n",
       "4            0.267298              91.148618         0  "
      ]
     },
     "execution_count": 70,
     "metadata": {},
     "output_type": "execute_result"
    }
   ],
   "source": [
    "#add a downtown dummy variable to signify if the zipcode is downtown.  These zips have different relationships to the\n",
    "#independent variables\n",
    "all_df[\"Downtown\"] = \" \"\n",
    "for index, row in all_df.iterrows():\n",
    "    if row['Zipcode']==60602:\n",
    "        all_df.loc[index, 'Downtown'] = 1\n",
    "    elif row['Zipcode']==60603:\n",
    "        all_df.loc[index, 'Downtown']= 1\n",
    "    elif row['Zipcode']==60604:\n",
    "        all_df.loc[index, 'Downtown']=1\n",
    "    elif row['Zipcode']==60606:\n",
    "        all_df.loc[index, 'Downtown']=1\n",
    "    else:\n",
    "        all_df.loc[index, 'Downtown']=0\n",
    "all_df.head()\n",
    "       \n",
    "    "
   ]
  },
  {
   "cell_type": "code",
   "execution_count": 148,
   "metadata": {},
   "outputs": [],
   "source": [
    "X = all_df[['Household Income', 'Poverty Count', 'Review Count', \"Nightlife per Capita\", \n",
    "                        \"Restaurants per Capita\", \"Grocery per Capita\", \"Crime Per 1000 People\"]].values\n",
    "y = all_df['Median Rent'].values"
   ]
  },
  {
   "cell_type": "code",
   "execution_count": 96,
   "metadata": {},
   "outputs": [],
   "source": [
    "#X_train, X_test, y_train, y_test = train_test_split(X, y, test_size = 0.2, random_state=0)"
   ]
  },
  {
   "cell_type": "code",
   "execution_count": 149,
   "metadata": {},
   "outputs": [
    {
     "data": {
      "text/plain": [
       "0.682364448974118"
      ]
     },
     "execution_count": 149,
     "metadata": {},
     "output_type": "execute_result"
    }
   ],
   "source": [
    "regressor = LinearRegression()  \n",
    "regressor.fit(X, y)\n",
    "#get r squared\n",
    "regressor.score(X, y)"
   ]
  },
  {
   "cell_type": "code",
   "execution_count": 150,
   "metadata": {},
   "outputs": [
    {
     "data": {
      "text/html": [
       "<div>\n",
       "<style scoped>\n",
       "    .dataframe tbody tr th:only-of-type {\n",
       "        vertical-align: middle;\n",
       "    }\n",
       "\n",
       "    .dataframe tbody tr th {\n",
       "        vertical-align: top;\n",
       "    }\n",
       "\n",
       "    .dataframe thead th {\n",
       "        text-align: right;\n",
       "    }\n",
       "</style>\n",
       "<table border=\"1\" class=\"dataframe\">\n",
       "  <thead>\n",
       "    <tr style=\"text-align: right;\">\n",
       "      <th></th>\n",
       "      <th>0</th>\n",
       "    </tr>\n",
       "  </thead>\n",
       "  <tbody>\n",
       "    <tr>\n",
       "      <th>0</th>\n",
       "      <td>0.008313</td>\n",
       "    </tr>\n",
       "    <tr>\n",
       "      <th>1</th>\n",
       "      <td>-0.002652</td>\n",
       "    </tr>\n",
       "    <tr>\n",
       "      <th>2</th>\n",
       "      <td>3.927600</td>\n",
       "    </tr>\n",
       "    <tr>\n",
       "      <th>3</th>\n",
       "      <td>-15.206634</td>\n",
       "    </tr>\n",
       "    <tr>\n",
       "      <th>4</th>\n",
       "      <td>-5.014088</td>\n",
       "    </tr>\n",
       "    <tr>\n",
       "      <th>5</th>\n",
       "      <td>-31.903253</td>\n",
       "    </tr>\n",
       "    <tr>\n",
       "      <th>6</th>\n",
       "      <td>-0.012976</td>\n",
       "    </tr>\n",
       "  </tbody>\n",
       "</table>\n",
       "</div>"
      ],
      "text/plain": [
       "           0\n",
       "0   0.008313\n",
       "1  -0.002652\n",
       "2   3.927600\n",
       "3 -15.206634\n",
       "4  -5.014088\n",
       "5 -31.903253\n",
       "6  -0.012976"
      ]
     },
     "execution_count": 150,
     "metadata": {},
     "output_type": "execute_result"
    }
   ],
   "source": [
    "# coeff_df = pd.DataFrame(regressor.coef_, X.columns, columns=['Coefficient'])  \n",
    "coeff_df = pd.DataFrame(regressor.coef_)\n",
    "coeff_df"
   ]
  },
  {
   "cell_type": "code",
   "execution_count": 151,
   "metadata": {},
   "outputs": [],
   "source": [
    "y_pred = regressor.predict(X)"
   ]
  },
  {
   "cell_type": "code",
   "execution_count": 152,
   "metadata": {},
   "outputs": [],
   "source": [
    "zipcode =all_df['Zipcode'].tolist()\n",
    "df = pd.DataFrame({'Actual': y, 'Predicted': y_pred})\n",
    "df_subset = df.head(15)"
   ]
  },
  {
   "cell_type": "code",
   "execution_count": 153,
   "metadata": {},
   "outputs": [
    {
     "data": {
      "image/png": "[encoded data removed]",
      "text/plain": [
       "<Figure size 720x576 with 1 Axes>"
      ]
     },
     "metadata": {
      "needs_background": "light"
     },
     "output_type": "display_data"
    }
   ],
   "source": [
    "df_subset.plot(kind='bar',figsize=(10,8))\n",
    "tick_locations = [value for value in range(0,len(df_subset))]\n",
    "plt.xticks(tick_locations, zipcode)\n",
    "plt.grid(which='major', linestyle='-', linewidth='0.5', color='green')\n",
    "plt.grid(which='minor', linestyle=':', linewidth='0.5', color='black')\n",
    "plt.title(\"Actual vs Predicted Median Rent Values by Zipcode\")\n",
    "plt.ylabel(\"Median Rent Value\")\n",
    "plt.xlabel(\"Zipcode\")\n",
    "plt.savefig(\"actual vs predicted.png\", bbox_inches=\"tight\")\n",
    "plt.show()"
   ]
  },
  {
   "cell_type": "code",
   "execution_count": 42,
   "metadata": {},
   "outputs": [
    {
     "name": "stdout",
     "output_type": "stream",
     "text": [
      "Mean Absolute Error: 142.55416559606982\n",
      "Mean Squared Error: 38136.21716425767\n",
      "Root Mean Squared Error: 195.28496399942745\n"
     ]
    }
   ],
   "source": [
    "print('Mean Absolute Error:', metrics.mean_absolute_error(y_test, y_pred))  \n",
    "print('Mean Squared Error:', metrics.mean_squared_error(y_test, y_pred))  \n",
    "print('Root Mean Squared Error:', np.sqrt(metrics.mean_squared_error(y_test, y_pred)))"
   ]
  },
  {
   "cell_type": "code",
   "execution_count": 43,
   "metadata": {},
   "outputs": [
    {
     "name": "stdout",
     "output_type": "stream",
     "text": [
      "195.28496399942745\n"
     ]
    }
   ],
   "source": [
    "from sklearn.metrics import mean_squared_error\n",
    "from math import sqrt\n",
    "\n",
    "rms = sqrt(mean_squared_error(y_test, y_pred))\n",
    "print(rms)"
   ]
  },
  {
   "cell_type": "code",
   "execution_count": null,
   "metadata": {},
   "outputs": [],
   "source": []
  }
 ],
 "metadata": {
  "anaconda-cloud": {},
  "kernelspec": {
   "display_name": "Python 3",
   "language": "python",
   "name": "python3"
  },
  "language_info": {
   "codemirror_mode": {
    "name": "ipython",
    "version": 3
   },
   "file_extension": ".py",
   "mimetype": "text/x-python",
   "name": "python",
   "nbconvert_exporter": "python",
   "pygments_lexer": "ipython3",
   "version": "3.7.3"
  }
 },
 "nbformat": 4,
 "nbformat_minor": 1
}
