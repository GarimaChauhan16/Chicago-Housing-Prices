{
 "cells": [
  {
   "cell_type": "code",
   "execution_count": null,
   "metadata": {},
   "outputs": [],
   "source": [
    "import pandas as pd  \n",
    "import numpy as np \n",
    "from scipy import stats\n",
    "import matplotlib.pyplot as plt  \n",
    "import seaborn as seabornInstance \n",
    "from sklearn.model_selection import train_test_split \n",
    "from sklearn.linear_model import LinearRegression\n",
    "from sklearn import metrics\n",
    "%matplotlib inline"
   ]
  },
  {
   "cell_type": "code",
   "execution_count": null,
   "metadata": {},
   "outputs": [],
   "source": [
    "airbnb_df = pd.read_csv(\"AirBnB_Reviews_Zipcode.csv\")\n",
    "census_df = pd.read_csv(\"housing_census_data.csv\")\n",
    "crime_df = pd.read_csv(\"Crime_per_Capita by zip.csv\")\n",
    "yelp_df = pd.read_csv(\"yelp housing and population.csv\")\n",
    "yelp_df=yelp_df[[\"Nightlife per Capita\", \"Restaurants per Capita\", \"Grocery per Capita\", \"Zipcode\"]]\n",
    "crime_df = crime_df[[\"Zipcode\", \"Crime Per 1000 People\"]]"
   ]
  },
  {
   "cell_type": "code",
   "execution_count": null,
   "metadata": {},
   "outputs": [],
   "source": [
    "housing_census_df = pd.merge(census_df, airbnb_df, on=\"Zipcode\")\n",
    "yelp_add = pd.merge(housing_census_df, yelp_df, on=\"Zipcode\")\n",
    "all_df = pd.merge(yelp_add, crime_df, on=\"Zipcode\")"
   ]
  },
  {
   "cell_type": "code",
   "execution_count": null,
   "metadata": {},
   "outputs": [],
   "source": [
    "len(all_df)"
   ]
  },
  {
   "cell_type": "code",
   "execution_count": null,
   "metadata": {},
   "outputs": [],
   "source": [
    "all_df.head()"
   ]
  },
  {
   "cell_type": "code",
   "execution_count": null,
   "metadata": {},
   "outputs": [],
   "source": [
    "#add a downtown dummy variable to signify if the zipcode is downtown.  These zips have different relationships to the\n",
    "#independent variables\n",
    "all_df[\"Downtown\"] = \" \"\n",
    "for index, row in all_df.iterrows():\n",
    "    if row['Zipcode']==60602:\n",
    "        all_df.loc[index, 'Downtown'] = 1\n",
    "    elif row['Zipcode']==60603:\n",
    "        all_df.loc[index, 'Downtown']= 1\n",
    "    elif row['Zipcode']==60604:\n",
    "        all_df.loc[index, 'Downtown']=1\n",
    "    elif row['Zipcode']==60606:\n",
    "        all_df.loc[index, 'Downtown']=1\n",
    "    else:\n",
    "        all_df.loc[index, 'Downtown']=0\n",
    "all_df.head()"
   ]
  },
  {
   "cell_type": "code",
   "execution_count": null,
   "metadata": {},
   "outputs": [],
   "source": [
    "X = all_df[['Household Income', 'Poverty Count', 'Review Count', \"Nightlife per Capita\", \n",
    "                        \"Restaurants per Capita\", \"Grocery per Capita\", \"Crime Per 1000 People\"]].values\n",
    "y = all_df['Median Rent'].values"
   ]
  },
  {
   "cell_type": "code",
   "execution_count": null,
   "metadata": {},
   "outputs": [],
   "source": [
    "#X_train, X_test, y_train, y_test = train_test_split(X, y, test_size = 0.2, random_state=0)"
   ]
  },
  {
   "cell_type": "code",
   "execution_count": null,
   "metadata": {},
   "outputs": [],
   "source": [
    "regressor = LinearRegression()  \n",
    "regressor.fit(X, y)\n",
    "#get r squared\n",
    "regressor.score(X, y)"
   ]
  },
  {
   "cell_type": "code",
   "execution_count": null,
   "metadata": {},
   "outputs": [],
   "source": [
    "# coeff_df = pd.DataFrame(regressor.coef_, X.columns, columns=['Coefficient'])  \n",
    "coeff_df = pd.DataFrame(regressor.coef_)\n",
    "coeff_df"
   ]
  },
  {
   "cell_type": "code",
   "execution_count": null,
   "metadata": {},
   "outputs": [],
   "source": [
    "y_pred = regressor.predict(X)"
   ]
  },
  {
   "cell_type": "code",
   "execution_count": null,
   "metadata": {},
   "outputs": [],
   "source": [
    "zipcode =all_df['Zipcode'].tolist()\n",
    "df = pd.DataFrame({'Actual': y, 'Predicted': y_pred})\n",
    "df_subset = df.head(15)"
   ]
  },
  {
   "cell_type": "code",
   "execution_count": null,
   "metadata": {},
   "outputs": [],
   "source": [
    "df_subset.plot(kind='bar',figsize=(10,8))\n",
    "tick_locations = [value for value in range(0,len(df_subset))]\n",
    "plt.xticks(tick_locations, zipcode)\n",
    "plt.grid(which='major', linestyle='-', linewidth='0.5', color='green')\n",
    "plt.grid(which='minor', linestyle=':', linewidth='0.5', color='black')\n",
    "plt.title(\"Actual vs Predicted Median Rent Values by Zipcode\")\n",
    "plt.ylabel(\"Median Rent Value\")\n",
    "plt.xlabel(\"Zipcode\")\n",
    "plt.savefig(\"actual vs predicted.png\", bbox_inches=\"tight\")\n",
    "plt.show()"
   ]
  }
 ],
 "metadata": {
  "kernelspec": {
   "display_name": "Python 3",
   "language": "python",
   "name": "python3"
  },
  "language_info": {
   "codemirror_mode": {
    "name": "ipython",
    "version": 3
   },
   "file_extension": ".py",
   "mimetype": "text/x-python",
   "name": "python",
   "nbconvert_exporter": "python",
   "pygments_lexer": "ipython3",
   "version": "3.7.3"
  }
 },
 "nbformat": 4,
 "nbformat_minor": 2
}
