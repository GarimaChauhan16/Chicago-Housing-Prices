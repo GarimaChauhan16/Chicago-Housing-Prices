{
 "cells": [
  {
   "cell_type": "code",
   "execution_count": 12,
   "metadata": {},
   "outputs": [],
   "source": [
    "# Dependencies\n",
    "import numpy as np\n",
    "import pandas as pd\n",
    "from matplotlib import pyplot as plt"
   ]
  },
  {
   "cell_type": "code",
   "execution_count": 13,
   "metadata": {},
   "outputs": [],
   "source": [
    "housing_df=pd.read_csv(\"housing_data.csv\")\n",
    "census_df=pd.read_csv(\"chicago_census_data.csv\")"
   ]
  },
  {
   "cell_type": "code",
   "execution_count": 14,
   "metadata": {},
   "outputs": [
    {
     "data": {
      "text/html": [
       "<div>\n",
       "<style scoped>\n",
       "    .dataframe tbody tr th:only-of-type {\n",
       "        vertical-align: middle;\n",
       "    }\n",
       "\n",
       "    .dataframe tbody tr th {\n",
       "        vertical-align: top;\n",
       "    }\n",
       "\n",
       "    .dataframe thead th {\n",
       "        text-align: right;\n",
       "    }\n",
       "</style>\n",
       "<table border=\"1\" class=\"dataframe\">\n",
       "  <thead>\n",
       "    <tr style=\"text-align: right;\">\n",
       "      <th></th>\n",
       "      <th>Zipcode</th>\n",
       "      <th>Median Rent</th>\n",
       "      <th>Median Home Value</th>\n",
       "      <th>Population</th>\n",
       "      <th>Median Age</th>\n",
       "      <th>Household Income</th>\n",
       "      <th>Per Capita Income</th>\n",
       "      <th>Poverty Count</th>\n",
       "      <th>Poverty Rate</th>\n",
       "    </tr>\n",
       "  </thead>\n",
       "  <tbody>\n",
       "    <tr>\n",
       "      <th>0</th>\n",
       "      <td>60601</td>\n",
       "      <td>1944.0</td>\n",
       "      <td>391100.0</td>\n",
       "      <td>13887</td>\n",
       "      <td>37.6</td>\n",
       "      <td>110215</td>\n",
       "      <td>95152</td>\n",
       "      <td>1171</td>\n",
       "      <td>8.432347</td>\n",
       "    </tr>\n",
       "    <tr>\n",
       "      <th>1</th>\n",
       "      <td>60602</td>\n",
       "      <td>1666.0</td>\n",
       "      <td>NaN</td>\n",
       "      <td>1277</td>\n",
       "      <td>31.1</td>\n",
       "      <td>115774</td>\n",
       "      <td>77279</td>\n",
       "      <td>32</td>\n",
       "      <td>2.505873</td>\n",
       "    </tr>\n",
       "    <tr>\n",
       "      <th>2</th>\n",
       "      <td>60603</td>\n",
       "      <td>1630.0</td>\n",
       "      <td>NaN</td>\n",
       "      <td>1197</td>\n",
       "      <td>26.7</td>\n",
       "      <td>140114</td>\n",
       "      <td>106207</td>\n",
       "      <td>261</td>\n",
       "      <td>21.804511</td>\n",
       "    </tr>\n",
       "    <tr>\n",
       "      <th>3</th>\n",
       "      <td>60604</td>\n",
       "      <td>1835.0</td>\n",
       "      <td>NaN</td>\n",
       "      <td>668</td>\n",
       "      <td>40.6</td>\n",
       "      <td>114565</td>\n",
       "      <td>130966</td>\n",
       "      <td>127</td>\n",
       "      <td>19.011976</td>\n",
       "    </tr>\n",
       "    <tr>\n",
       "      <th>4</th>\n",
       "      <td>60605</td>\n",
       "      <td>1865.0</td>\n",
       "      <td>284100.0</td>\n",
       "      <td>26188</td>\n",
       "      <td>33.6</td>\n",
       "      <td>107811</td>\n",
       "      <td>81144</td>\n",
       "      <td>2312</td>\n",
       "      <td>8.828471</td>\n",
       "    </tr>\n",
       "  </tbody>\n",
       "</table>\n",
       "</div>"
      ],
      "text/plain": [
       "   Zipcode  Median Rent  Median Home Value  Population  Median Age  \\\n",
       "0    60601       1944.0           391100.0       13887        37.6   \n",
       "1    60602       1666.0                NaN        1277        31.1   \n",
       "2    60603       1630.0                NaN        1197        26.7   \n",
       "3    60604       1835.0                NaN         668        40.6   \n",
       "4    60605       1865.0           284100.0       26188        33.6   \n",
       "\n",
       "   Household Income  Per Capita Income  Poverty Count  Poverty Rate  \n",
       "0            110215              95152           1171      8.432347  \n",
       "1            115774              77279             32      2.505873  \n",
       "2            140114             106207            261     21.804511  \n",
       "3            114565             130966            127     19.011976  \n",
       "4            107811              81144           2312      8.828471  "
      ]
     },
     "execution_count": 14,
     "metadata": {},
     "output_type": "execute_result"
    }
   ],
   "source": [
    "housing_census_df = pd.merge(housing_df, census_df, on=\"Zipcode\")\n",
    "housing_census_df.head()\n",
    "\n",
    "#len(chicago_df)"
   ]
  },
  {
   "cell_type": "code",
   "execution_count": 15,
   "metadata": {},
   "outputs": [],
   "source": [
    "# Save as a csv\n",
    "# Note to avoid any issues later, use encoding=\"utf-8\"\n",
    "housing_census_df.to_csv(\"housing_census_data.csv\", encoding=\"utf-8\", index=False)"
   ]
  },
  {
   "cell_type": "code",
   "execution_count": 23,
   "metadata": {},
   "outputs": [
    {
     "data": {
      "image/png": "[encoded data removed]",
      "text/plain": [
       "<Figure size 432x288 with 1 Axes>"
      ]
     },
     "metadata": {
      "needs_background": "light"
     },
     "output_type": "display_data"
    }
   ],
   "source": [
    "# plot rent vs household income\n",
    "fig,axl = plt.subplots()\n",
    "axl.set_facecolor('lavender')\n",
    "plt.scatter(housing_census_df['Household Income'], housing_census_df['Median Rent'], edgecolor = 'black', marker='o')\n",
    "plt.grid (color='white')\n",
    "plt.title(\"Median Rent vs. Household Income by Zipcode\", fontsize=14)\n",
    "plt.xlabel(\"Household Income ($)\", fontsize=12)\n",
    "plt.ylabel(\"Median Rent ($)\", fontsize=12)\n",
    "# Save Figure as png\n",
    "plt.savefig(\"../Images/Rent_Vs_Household_income.png\", bbox_inches='tight')\n",
    "plt.show()"
   ]
  },
  {
   "cell_type": "code",
   "execution_count": null,
   "metadata": {},
   "outputs": [],
   "source": [
    "# plot rent vs Per Capita income\n",
    "fig,axl = plt.subplots()\n",
    "axl.set_facecolor('lavender')\n",
    "plt.scatter(housing_census_df['Per Capita Income'], housing_census_df['Median Rent'], edgecolor = 'black', marker='o')\n",
    "plt.grid (color='white')\n",
    "plt.title(\"Median Rent vs. Per Capita Income by Zipcode\", fontsize=14)\n",
    "plt.xlabel(\"Per Capita Income ($)\", fontsize=12)\n",
    "plt.ylabel(\"Median Rent ($)\", fontsize=12)\n",
    "# Save Figure as png\n",
    "plt.savefig(\"../Images/Rent_Vs_PerCapita_income.png\", bbox_inches='tight')\n",
    "plt.show()"
   ]
  },
  {
   "cell_type": "code",
   "execution_count": null,
   "metadata": {},
   "outputs": [],
   "source": [
    "# plot rent vs Poverty Rate\n",
    "fig,axl = plt.subplots()\n",
    "axl.set_facecolor('lavender')\n",
    "plt.scatter(housing_census_df['Poverty Rate'], housing_census_df['Median Rent'], edgecolor = 'black', marker='o')\n",
    "plt.grid (color='white')\n",
    "plt.title(\"Median Rent vs. Poverty Rate by Zipcode\", fontsize=14)\n",
    "plt.xlabel(\"Poverty Rate\", fontsize=12)\n",
    "plt.ylabel(\"Median Rent ($)\", fontsize=12)\n",
    "# Save Figure as png\n",
    "plt.savefig(\"../Images/Rent_Vs_PovertyRate.png\", bbox_inches='tight')\n",
    "plt.show()"
   ]
  },
  {
   "cell_type": "code",
   "execution_count": null,
   "metadata": {},
   "outputs": [],
   "source": []
  }
 ],
 "metadata": {
  "anaconda-cloud": {},
  "kernelspec": {
   "display_name": "Python 3",
   "language": "python",
   "name": "python3"
  },
  "language_info": {
   "codemirror_mode": {
    "name": "ipython",
    "version": 3
   },
   "file_extension": ".py",
   "mimetype": "text/x-python",
   "name": "python",
   "nbconvert_exporter": "python",
   "pygments_lexer": "ipython3",
   "version": "3.7.3"
  }
 },
 "nbformat": 4,
 "nbformat_minor": 1
}
