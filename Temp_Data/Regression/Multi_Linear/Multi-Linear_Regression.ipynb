{
 "cells": [
  {
   "cell_type": "code",
<<<<<<< HEAD
   "execution_count": 34,
=======
   "execution_count": 1,
>>>>>>> 0a409253404759f4e4c42bb87b271dfbe7e41651
   "metadata": {},
   "outputs": [],
   "source": [
    "import pandas as pd  \n",
    "import numpy as np \n",
    "from scipy import stats\n",
    "import matplotlib.pyplot as plt  \n",
    "import seaborn as seabornInstance \n",
    "from sklearn.model_selection import train_test_split \n",
    "from sklearn.linear_model import LinearRegression\n",
    "from sklearn import metrics\n",
    "%matplotlib inline"
   ]
  },
  {
   "cell_type": "code",
<<<<<<< HEAD
   "execution_count": 35,
   "metadata": {},
=======
   "execution_count": 17,
   "metadata": {
    "scrolled": true
   },
>>>>>>> 0a409253404759f4e4c42bb87b271dfbe7e41651
   "outputs": [],
   "source": [
    "airbnb_df = pd.read_csv(\"AirBnB_Reviews_Zipcode.csv\")\n",
    "census_df = pd.read_csv(\"housing_census_data.csv\")\n",
    "crime_df = pd.read_csv(\"Crime_per_Capita by zip.csv\")\n",
    "yelp_df = pd.read_csv(\"yelp housing and population.csv\")\n",
    "yelp_df=yelp_df[[\"Nightlife per Capita\", \"Restaurants per Capita\", \"Grocery per Capita\", \"Zipcode\"]]\n",
    "crime_df = crime_df[[\"Zipcode\", \"Crime Per 1000 People\"]]"
   ]
  },
  {
   "cell_type": "code",
<<<<<<< HEAD
   "execution_count": 36,
=======
   "execution_count": 24,
   "metadata": {},
   "outputs": [],
   "source": [
    "housing_census_df = pd.merge(census_df, airbnb_df, on=\"Zipcode\")\n",
    "yelp_add = pd.merge(housing_census_df, yelp_df, on=\"Zipcode\")\n",
    "all_df = pd.merge(yelp_add, crime_df, on=\"Zipcode\")"
   ]
  },
  {
   "cell_type": "code",
   "execution_count": 25,
   "metadata": {},
   "outputs": [
    {
     "data": {
      "text/plain": [
       "57"
      ]
     },
     "execution_count": 25,
     "metadata": {},
     "output_type": "execute_result"
    }
   ],
   "source": [
    "len(all_df)"
   ]
  },
  {
   "cell_type": "code",
   "execution_count": 26,
>>>>>>> 0a409253404759f4e4c42bb87b271dfbe7e41651
   "metadata": {},
   "outputs": [
    {
     "data": {
      "text/html": [
       "<div>\n",
       "<style scoped>\n",
       "    .dataframe tbody tr th:only-of-type {\n",
       "        vertical-align: middle;\n",
       "    }\n",
       "\n",
       "    .dataframe tbody tr th {\n",
       "        vertical-align: top;\n",
       "    }\n",
       "\n",
       "    .dataframe thead th {\n",
       "        text-align: right;\n",
       "    }\n",
       "</style>\n",
       "<table border=\"1\" class=\"dataframe\">\n",
       "  <thead>\n",
       "    <tr style=\"text-align: right;\">\n",
       "      <th></th>\n",
       "      <th>Zipcode</th>\n",
       "      <th>Median Rent</th>\n",
       "      <th>Median Home Value</th>\n",
       "      <th>Population</th>\n",
       "      <th>Median Age</th>\n",
       "      <th>Household Income</th>\n",
       "      <th>Per Capita Income</th>\n",
       "      <th>Poverty Count</th>\n",
       "      <th>Poverty Rate</th>\n",
       "      <th>Review Count</th>\n",
       "      <th>Nightlife per Capita</th>\n",
       "      <th>Restaurants per Capita</th>\n",
       "      <th>Grocery per Capita</th>\n",
       "      <th>Crime Per 1000 People</th>\n",
       "    </tr>\n",
       "  </thead>\n",
       "  <tbody>\n",
       "    <tr>\n",
       "      <th>0</th>\n",
       "      <td>60601</td>\n",
       "      <td>1944</td>\n",
       "      <td>391100.0</td>\n",
       "      <td>13887</td>\n",
       "      <td>37.6</td>\n",
       "      <td>110215</td>\n",
       "      <td>95152</td>\n",
       "      <td>1171</td>\n",
       "      <td>8.432347</td>\n",
       "      <td>11.0</td>\n",
       "      <td>3.384460</td>\n",
       "      <td>10.729459</td>\n",
       "      <td>0.504069</td>\n",
       "      <td>78.274645</td>\n",
       "    </tr>\n",
       "    <tr>\n",
       "      <th>1</th>\n",
       "      <td>60602</td>\n",
       "      <td>1666</td>\n",
       "      <td>NaN</td>\n",
       "      <td>1277</td>\n",
       "      <td>31.1</td>\n",
       "      <td>115774</td>\n",
       "      <td>77279</td>\n",
       "      <td>32</td>\n",
       "      <td>2.505873</td>\n",
       "      <td>19.0</td>\n",
       "      <td>8.613939</td>\n",
       "      <td>61.080658</td>\n",
       "      <td>0.000000</td>\n",
       "      <td>6332.028191</td>\n",
       "    </tr>\n",
       "    <tr>\n",
       "      <th>2</th>\n",
       "      <td>60603</td>\n",
       "      <td>1630</td>\n",
       "      <td>NaN</td>\n",
       "      <td>1197</td>\n",
       "      <td>26.7</td>\n",
       "      <td>140114</td>\n",
       "      <td>106207</td>\n",
       "      <td>261</td>\n",
       "      <td>21.804511</td>\n",
       "      <td>10.0</td>\n",
       "      <td>18.379282</td>\n",
       "      <td>81.035923</td>\n",
       "      <td>0.835422</td>\n",
       "      <td>1742.690058</td>\n",
       "    </tr>\n",
       "    <tr>\n",
       "      <th>3</th>\n",
       "      <td>60604</td>\n",
       "      <td>1835</td>\n",
       "      <td>NaN</td>\n",
       "      <td>668</td>\n",
       "      <td>40.6</td>\n",
       "      <td>114565</td>\n",
       "      <td>130966</td>\n",
       "      <td>127</td>\n",
       "      <td>19.011976</td>\n",
       "      <td>22.0</td>\n",
       "      <td>7.485030</td>\n",
       "      <td>61.377246</td>\n",
       "      <td>0.000000</td>\n",
       "      <td>1589.820359</td>\n",
       "    </tr>\n",
       "    <tr>\n",
       "      <th>4</th>\n",
       "      <td>60605</td>\n",
       "      <td>1865</td>\n",
       "      <td>284100.0</td>\n",
       "      <td>26188</td>\n",
       "      <td>33.6</td>\n",
       "      <td>107811</td>\n",
       "      <td>81144</td>\n",
       "      <td>2312</td>\n",
       "      <td>8.828471</td>\n",
       "      <td>20.0</td>\n",
       "      <td>1.298305</td>\n",
       "      <td>4.314953</td>\n",
       "      <td>0.267298</td>\n",
       "      <td>91.148618</td>\n",
       "    </tr>\n",
       "  </tbody>\n",
       "</table>\n",
       "</div>"
      ],
      "text/plain": [
       "   Zipcode  Median Rent  Median Home Value  Population  Median Age  \\\n",
       "0    60601         1944           391100.0       13887        37.6   \n",
       "1    60602         1666                NaN        1277        31.1   \n",
       "2    60603         1630                NaN        1197        26.7   \n",
       "3    60604         1835                NaN         668        40.6   \n",
       "4    60605         1865           284100.0       26188        33.6   \n",
       "\n",
       "   Household Income  Per Capita Income  Poverty Count  Poverty Rate  \\\n",
       "0            110215              95152           1171      8.432347   \n",
       "1            115774              77279             32      2.505873   \n",
       "2            140114             106207            261     21.804511   \n",
       "3            114565             130966            127     19.011976   \n",
       "4            107811              81144           2312      8.828471   \n",
       "\n",
<<<<<<< HEAD
       "   Review Count  \n",
       "0          11.0  \n",
       "1          19.0  \n",
       "2          10.0  \n",
       "3          22.0  \n",
       "4          20.0  "
      ]
     },
     "execution_count": 36,
     "metadata": {},
     "output_type": "execute_result"
    }
   ],
   "source": [
    "housing_census_df = pd.merge(census_df, airbnb_df, on=\"Zipcode\")\n",
    "housing_census_df.head()"
   ]
  },
  {
   "cell_type": "code",
   "execution_count": 37,
   "metadata": {},
   "outputs": [
    {
     "data": {
      "text/plain": [
       "57"
      ]
     },
     "execution_count": 37,
=======
       "   Review Count  Nightlife per Capita  Restaurants per Capita  \\\n",
       "0          11.0              3.384460               10.729459   \n",
       "1          19.0              8.613939               61.080658   \n",
       "2          10.0             18.379282               81.035923   \n",
       "3          22.0              7.485030               61.377246   \n",
       "4          20.0              1.298305                4.314953   \n",
       "\n",
       "   Grocery per Capita  Crime Per 1000 People  \n",
       "0            0.504069              78.274645  \n",
       "1            0.000000            6332.028191  \n",
       "2            0.835422            1742.690058  \n",
       "3            0.000000            1589.820359  \n",
       "4            0.267298              91.148618  "
      ]
     },
     "execution_count": 26,
>>>>>>> 0a409253404759f4e4c42bb87b271dfbe7e41651
     "metadata": {},
     "output_type": "execute_result"
    }
   ],
   "source": [
    "all_df.head()"
   ]
  },
  {
   "cell_type": "code",
<<<<<<< HEAD
   "execution_count": 38,
=======
   "execution_count": 70,
>>>>>>> 0a409253404759f4e4c42bb87b271dfbe7e41651
   "metadata": {},
   "outputs": [
    {
     "data": {
      "text/html": [
       "<div>\n",
       "<style scoped>\n",
       "    .dataframe tbody tr th:only-of-type {\n",
       "        vertical-align: middle;\n",
       "    }\n",
       "\n",
       "    .dataframe tbody tr th {\n",
       "        vertical-align: top;\n",
       "    }\n",
       "\n",
       "    .dataframe thead th {\n",
       "        text-align: right;\n",
       "    }\n",
       "</style>\n",
       "<table border=\"1\" class=\"dataframe\">\n",
       "  <thead>\n",
       "    <tr style=\"text-align: right;\">\n",
       "      <th></th>\n",
       "      <th>Zipcode</th>\n",
       "      <th>Median Rent</th>\n",
       "      <th>Median Home Value</th>\n",
       "      <th>Population</th>\n",
       "      <th>Median Age</th>\n",
       "      <th>Household Income</th>\n",
<<<<<<< HEAD
=======
       "      <th>Per Capita Income</th>\n",
       "      <th>Poverty Count</th>\n",
>>>>>>> 0a409253404759f4e4c42bb87b271dfbe7e41651
       "      <th>Poverty Rate</th>\n",
       "      <th>Review Count</th>\n",
       "      <th>Nightlife per Capita</th>\n",
       "      <th>Restaurants per Capita</th>\n",
       "      <th>Grocery per Capita</th>\n",
       "      <th>Crime Per 1000 People</th>\n",
       "      <th>Downtown</th>\n",
       "    </tr>\n",
       "  </thead>\n",
       "  <tbody>\n",
       "    <tr>\n",
       "      <th>0</th>\n",
       "      <td>60601</td>\n",
       "      <td>1944</td>\n",
       "      <td>391100.0</td>\n",
       "      <td>13887</td>\n",
       "      <td>37.6</td>\n",
       "      <td>110215</td>\n",
<<<<<<< HEAD
=======
       "      <td>95152</td>\n",
       "      <td>1171</td>\n",
>>>>>>> 0a409253404759f4e4c42bb87b271dfbe7e41651
       "      <td>8.432347</td>\n",
       "      <td>11.0</td>\n",
       "      <td>3.384460</td>\n",
       "      <td>10.729459</td>\n",
       "      <td>0.504069</td>\n",
       "      <td>78.274645</td>\n",
       "      <td>0</td>\n",
       "    </tr>\n",
       "    <tr>\n",
       "      <th>1</th>\n",
       "      <td>60602</td>\n",
       "      <td>1666</td>\n",
       "      <td>NaN</td>\n",
       "      <td>1277</td>\n",
       "      <td>31.1</td>\n",
       "      <td>115774</td>\n",
<<<<<<< HEAD
=======
       "      <td>77279</td>\n",
       "      <td>32</td>\n",
>>>>>>> 0a409253404759f4e4c42bb87b271dfbe7e41651
       "      <td>2.505873</td>\n",
       "      <td>19.0</td>\n",
       "      <td>8.613939</td>\n",
       "      <td>61.080658</td>\n",
       "      <td>0.000000</td>\n",
       "      <td>6332.028191</td>\n",
       "      <td>1</td>\n",
       "    </tr>\n",
       "    <tr>\n",
       "      <th>2</th>\n",
       "      <td>60603</td>\n",
       "      <td>1630</td>\n",
       "      <td>NaN</td>\n",
       "      <td>1197</td>\n",
       "      <td>26.7</td>\n",
       "      <td>140114</td>\n",
<<<<<<< HEAD
=======
       "      <td>106207</td>\n",
       "      <td>261</td>\n",
>>>>>>> 0a409253404759f4e4c42bb87b271dfbe7e41651
       "      <td>21.804511</td>\n",
       "      <td>10.0</td>\n",
       "      <td>18.379282</td>\n",
       "      <td>81.035923</td>\n",
       "      <td>0.835422</td>\n",
       "      <td>1742.690058</td>\n",
       "      <td>1</td>\n",
       "    </tr>\n",
       "    <tr>\n",
       "      <th>3</th>\n",
       "      <td>60604</td>\n",
       "      <td>1835</td>\n",
       "      <td>NaN</td>\n",
       "      <td>668</td>\n",
       "      <td>40.6</td>\n",
       "      <td>114565</td>\n",
<<<<<<< HEAD
=======
       "      <td>130966</td>\n",
       "      <td>127</td>\n",
>>>>>>> 0a409253404759f4e4c42bb87b271dfbe7e41651
       "      <td>19.011976</td>\n",
       "      <td>22.0</td>\n",
       "      <td>7.485030</td>\n",
       "      <td>61.377246</td>\n",
       "      <td>0.000000</td>\n",
       "      <td>1589.820359</td>\n",
       "      <td>1</td>\n",
       "    </tr>\n",
       "    <tr>\n",
       "      <th>4</th>\n",
       "      <td>60605</td>\n",
       "      <td>1865</td>\n",
       "      <td>284100.0</td>\n",
       "      <td>26188</td>\n",
       "      <td>33.6</td>\n",
       "      <td>107811</td>\n",
<<<<<<< HEAD
=======
       "      <td>81144</td>\n",
       "      <td>2312</td>\n",
>>>>>>> 0a409253404759f4e4c42bb87b271dfbe7e41651
       "      <td>8.828471</td>\n",
       "      <td>20.0</td>\n",
       "      <td>1.298305</td>\n",
       "      <td>4.314953</td>\n",
       "      <td>0.267298</td>\n",
       "      <td>91.148618</td>\n",
       "      <td>0</td>\n",
       "    </tr>\n",
       "  </tbody>\n",
       "</table>\n",
       "</div>"
      ],
      "text/plain": [
<<<<<<< HEAD
       "   Median Rent  Household Income  Poverty Rate  Review Count\n",
       "0         1944            110215      8.432347          11.0\n",
       "1         1666            115774      2.505873          19.0\n",
       "2         1630            140114     21.804511          10.0\n",
       "3         1835            114565     19.011976          22.0\n",
       "4         1865            107811      8.828471          20.0"
      ]
     },
     "execution_count": 38,
     "metadata": {},
     "output_type": "execute_result"
    }
   ],
   "source": [
    "housing_data_clean = housing_census_df[[\"Median Rent\", \"Household Income\",\"Poverty Rate\", \"Review Count\"]]\n",
    "housing_data_clean.head()"
   ]
  },
  {
   "cell_type": "code",
   "execution_count": 39,
   "metadata": {},
   "outputs": [
    {
     "data": {
      "text/plain": [
       "Median Rent         57\n",
       "Household Income    57\n",
       "Poverty Rate        57\n",
       "Review Count        57\n",
       "dtype: int64"
      ]
     },
     "execution_count": 39,
=======
       "   Zipcode  Median Rent  Median Home Value  Population  Median Age  \\\n",
       "0    60601         1944           391100.0       13887        37.6   \n",
       "1    60602         1666                NaN        1277        31.1   \n",
       "2    60603         1630                NaN        1197        26.7   \n",
       "3    60604         1835                NaN         668        40.6   \n",
       "4    60605         1865           284100.0       26188        33.6   \n",
       "\n",
       "   Household Income  Per Capita Income  Poverty Count  Poverty Rate  \\\n",
       "0            110215              95152           1171      8.432347   \n",
       "1            115774              77279             32      2.505873   \n",
       "2            140114             106207            261     21.804511   \n",
       "3            114565             130966            127     19.011976   \n",
       "4            107811              81144           2312      8.828471   \n",
       "\n",
       "   Review Count  Nightlife per Capita  Restaurants per Capita  \\\n",
       "0          11.0              3.384460               10.729459   \n",
       "1          19.0              8.613939               61.080658   \n",
       "2          10.0             18.379282               81.035923   \n",
       "3          22.0              7.485030               61.377246   \n",
       "4          20.0              1.298305                4.314953   \n",
       "\n",
       "   Grocery per Capita  Crime Per 1000 People  Downtown  \n",
       "0            0.504069              78.274645         0  \n",
       "1            0.000000            6332.028191         1  \n",
       "2            0.835422            1742.690058         1  \n",
       "3            0.000000            1589.820359         1  \n",
       "4            0.267298              91.148618         0  "
      ]
     },
     "execution_count": 70,
>>>>>>> 0a409253404759f4e4c42bb87b271dfbe7e41651
     "metadata": {},
     "output_type": "execute_result"
    }
   ],
   "source": [
    "#add a downtown dummy variable to signify if the zipcode is downtown.  These zips have different relationships to the\n",
    "#independent variables\n",
    "all_df[\"Downtown\"] = \" \"\n",
    "for index, row in all_df.iterrows():\n",
    "    if row['Zipcode']==60602:\n",
    "        all_df.loc[index, 'Downtown'] = 1\n",
    "    elif row['Zipcode']==60603:\n",
    "        all_df.loc[index, 'Downtown']= 1\n",
    "    elif row['Zipcode']==60604:\n",
    "        all_df.loc[index, 'Downtown']=1\n",
    "    elif row['Zipcode']==60606:\n",
    "        all_df.loc[index, 'Downtown']=1\n",
    "    else:\n",
    "        all_df.loc[index, 'Downtown']=0\n",
    "all_df.head()\n",
    "       \n",
    "    "
   ]
  },
  {
   "cell_type": "code",
<<<<<<< HEAD
   "execution_count": 40,
   "metadata": {},
   "outputs": [],
   "source": [
    "X = housing_data_clean[['Household Income', 'Poverty Rate', 'Review Count']].values\n",
    "y = housing_data_clean['Median Rent'].values"
=======
   "execution_count": 148,
   "metadata": {},
   "outputs": [],
   "source": [
    "X = all_df[['Household Income', 'Poverty Count', 'Review Count', \"Nightlife per Capita\", \n",
    "                        \"Restaurants per Capita\", \"Grocery per Capita\", \"Crime Per 1000 People\"]].values\n",
    "y = all_df['Median Rent'].values"
>>>>>>> 0a409253404759f4e4c42bb87b271dfbe7e41651
   ]
  },
  {
   "cell_type": "code",
<<<<<<< HEAD
   "execution_count": 41,
=======
   "execution_count": 96,
>>>>>>> 0a409253404759f4e4c42bb87b271dfbe7e41651
   "metadata": {},
   "outputs": [],
   "source": [
    "#X_train, X_test, y_train, y_test = train_test_split(X, y, test_size = 0.2, random_state=0)"
   ]
  },
  {
   "cell_type": "code",
<<<<<<< HEAD
   "execution_count": 42,
=======
   "execution_count": 149,
>>>>>>> 0a409253404759f4e4c42bb87b271dfbe7e41651
   "metadata": {},
   "outputs": [
    {
     "data": {
      "text/plain": [
       "0.682364448974118"
      ]
     },
<<<<<<< HEAD
     "execution_count": 42,
=======
     "execution_count": 149,
>>>>>>> 0a409253404759f4e4c42bb87b271dfbe7e41651
     "metadata": {},
     "output_type": "execute_result"
    }
   ],
   "source": [
    "regressor = LinearRegression()  \n",
    "regressor.fit(X, y)\n",
    "#get r squared\n",
    "regressor.score(X, y)"
   ]
  },
  {
   "cell_type": "code",
<<<<<<< HEAD
   "execution_count": 49,
   "metadata": {},
   "outputs": [
    {
     "ename": "AttributeError",
     "evalue": "'LinearRegression' object has no attribute 'summary'",
     "output_type": "error",
     "traceback": [
      "\u001b[1;31m---------------------------------------------------------------------------\u001b[0m",
      "\u001b[1;31mAttributeError\u001b[0m                            Traceback (most recent call last)",
      "\u001b[1;32m<ipython-input-49-b5a1643c7262>\u001b[0m in \u001b[0;36m<module>\u001b[1;34m\u001b[0m\n\u001b[1;32m----> 1\u001b[1;33m \u001b[0mregressor\u001b[0m\u001b[1;33m.\u001b[0m\u001b[0msummary\u001b[0m\u001b[1;33m(\u001b[0m\u001b[1;33m)\u001b[0m\u001b[1;33m\u001b[0m\u001b[1;33m\u001b[0m\u001b[0m\n\u001b[0m",
      "\u001b[1;31mAttributeError\u001b[0m: 'LinearRegression' object has no attribute 'summary'"
     ]
    }
   ],
   "source": [
    "regressor.summary()"
   ]
  },
  {
   "cell_type": "code",
   "execution_count": 43,
=======
   "execution_count": 150,
>>>>>>> 0a409253404759f4e4c42bb87b271dfbe7e41651
   "metadata": {},
   "outputs": [
    {
     "data": {
      "text/html": [
       "<div>\n",
       "<style scoped>\n",
       "    .dataframe tbody tr th:only-of-type {\n",
       "        vertical-align: middle;\n",
       "    }\n",
       "\n",
       "    .dataframe tbody tr th {\n",
       "        vertical-align: top;\n",
       "    }\n",
       "\n",
       "    .dataframe thead th {\n",
       "        text-align: right;\n",
       "    }\n",
       "</style>\n",
       "<table border=\"1\" class=\"dataframe\">\n",
       "  <thead>\n",
       "    <tr style=\"text-align: right;\">\n",
       "      <th></th>\n",
       "      <th>0</th>\n",
       "    </tr>\n",
       "  </thead>\n",
       "  <tbody>\n",
       "    <tr>\n",
       "      <th>0</th>\n",
<<<<<<< HEAD
       "      <td>0.003801</td>\n",
       "    </tr>\n",
       "    <tr>\n",
       "      <th>1</th>\n",
       "      <td>-9.705405</td>\n",
       "    </tr>\n",
       "    <tr>\n",
       "      <th>2</th>\n",
       "      <td>7.516739</td>\n",
=======
       "      <td>0.008313</td>\n",
       "    </tr>\n",
       "    <tr>\n",
       "      <th>1</th>\n",
       "      <td>-0.002652</td>\n",
       "    </tr>\n",
       "    <tr>\n",
       "      <th>2</th>\n",
       "      <td>3.927600</td>\n",
       "    </tr>\n",
       "    <tr>\n",
       "      <th>3</th>\n",
       "      <td>-15.206634</td>\n",
       "    </tr>\n",
       "    <tr>\n",
       "      <th>4</th>\n",
       "      <td>-5.014088</td>\n",
       "    </tr>\n",
       "    <tr>\n",
       "      <th>5</th>\n",
       "      <td>-31.903253</td>\n",
       "    </tr>\n",
       "    <tr>\n",
       "      <th>6</th>\n",
       "      <td>-0.012976</td>\n",
>>>>>>> 0a409253404759f4e4c42bb87b271dfbe7e41651
       "    </tr>\n",
       "  </tbody>\n",
       "</table>\n",
       "</div>"
      ],
      "text/plain": [
<<<<<<< HEAD
       "          0\n",
       "0  0.003801\n",
       "1 -9.705405\n",
       "2  7.516739"
      ]
     },
     "execution_count": 43,
=======
       "           0\n",
       "0   0.008313\n",
       "1  -0.002652\n",
       "2   3.927600\n",
       "3 -15.206634\n",
       "4  -5.014088\n",
       "5 -31.903253\n",
       "6  -0.012976"
      ]
     },
     "execution_count": 150,
>>>>>>> 0a409253404759f4e4c42bb87b271dfbe7e41651
     "metadata": {},
     "output_type": "execute_result"
    }
   ],
   "source": [
    "# coeff_df = pd.DataFrame(regressor.coef_, X.columns, columns=['Coefficient'])  \n",
    "coeff_df = pd.DataFrame(regressor.coef_)\n",
    "coeff_df"
   ]
  },
  {
   "cell_type": "code",
<<<<<<< HEAD
   "execution_count": 44,
=======
   "execution_count": 151,
>>>>>>> 0a409253404759f4e4c42bb87b271dfbe7e41651
   "metadata": {},
   "outputs": [],
   "source": [
    "y_pred = regressor.predict(X)"
   ]
  },
  {
   "cell_type": "code",
<<<<<<< HEAD
   "execution_count": 45,
   "metadata": {},
   "outputs": [
    {
     "data": {
      "text/html": [
       "<div>\n",
       "<style scoped>\n",
       "    .dataframe tbody tr th:only-of-type {\n",
       "        vertical-align: middle;\n",
       "    }\n",
       "\n",
       "    .dataframe tbody tr th {\n",
       "        vertical-align: top;\n",
       "    }\n",
       "\n",
       "    .dataframe thead th {\n",
       "        text-align: right;\n",
       "    }\n",
       "</style>\n",
       "<table border=\"1\" class=\"dataframe\">\n",
       "  <thead>\n",
       "    <tr style=\"text-align: right;\">\n",
       "      <th></th>\n",
       "      <th>Actual</th>\n",
       "      <th>Predicted</th>\n",
       "    </tr>\n",
       "  </thead>\n",
       "  <tbody>\n",
       "    <tr>\n",
       "      <th>0</th>\n",
       "      <td>1634</td>\n",
       "      <td>1850.304409</td>\n",
       "    </tr>\n",
       "    <tr>\n",
       "      <th>1</th>\n",
       "      <td>1443</td>\n",
       "      <td>1418.072914</td>\n",
       "    </tr>\n",
       "    <tr>\n",
       "      <th>2</th>\n",
       "      <td>1507</td>\n",
       "      <td>1387.934170</td>\n",
       "    </tr>\n",
       "    <tr>\n",
       "      <th>3</th>\n",
       "      <td>1488</td>\n",
       "      <td>1958.304214</td>\n",
       "    </tr>\n",
       "    <tr>\n",
       "      <th>4</th>\n",
       "      <td>1713</td>\n",
       "      <td>1589.773805</td>\n",
       "    </tr>\n",
       "    <tr>\n",
       "      <th>5</th>\n",
       "      <td>1630</td>\n",
       "      <td>1812.804974</td>\n",
       "    </tr>\n",
       "    <tr>\n",
       "      <th>6</th>\n",
       "      <td>1349</td>\n",
       "      <td>1364.516323</td>\n",
       "    </tr>\n",
       "    <tr>\n",
       "      <th>7</th>\n",
       "      <td>1566</td>\n",
       "      <td>1710.447217</td>\n",
       "    </tr>\n",
       "    <tr>\n",
       "      <th>8</th>\n",
       "      <td>1441</td>\n",
       "      <td>1455.803245</td>\n",
       "    </tr>\n",
       "    <tr>\n",
       "      <th>9</th>\n",
       "      <td>1839</td>\n",
       "      <td>1609.134031</td>\n",
       "    </tr>\n",
       "    <tr>\n",
       "      <th>10</th>\n",
       "      <td>1865</td>\n",
       "      <td>1891.139059</td>\n",
       "    </tr>\n",
       "    <tr>\n",
       "      <th>11</th>\n",
       "      <td>1928</td>\n",
       "      <td>1859.524259</td>\n",
       "    </tr>\n",
       "  </tbody>\n",
       "</table>\n",
       "</div>"
      ],
      "text/plain": [
       "    Actual    Predicted\n",
       "0     1634  1850.304409\n",
       "1     1443  1418.072914\n",
       "2     1507  1387.934170\n",
       "3     1488  1958.304214\n",
       "4     1713  1589.773805\n",
       "5     1630  1812.804974\n",
       "6     1349  1364.516323\n",
       "7     1566  1710.447217\n",
       "8     1441  1455.803245\n",
       "9     1839  1609.134031\n",
       "10    1865  1891.139059\n",
       "11    1928  1859.524259"
      ]
     },
     "execution_count": 45,
     "metadata": {},
     "output_type": "execute_result"
    }
   ],
=======
   "execution_count": 152,
   "metadata": {},
   "outputs": [],
>>>>>>> 0a409253404759f4e4c42bb87b271dfbe7e41651
   "source": [
    "zipcode =all_df['Zipcode'].tolist()\n",
    "df = pd.DataFrame({'Actual': y, 'Predicted': y_pred})\n",
    "df_subset = df.head(15)"
   ]
  },
  {
   "cell_type": "code",
<<<<<<< HEAD
   "execution_count": 46,
=======
   "execution_count": 153,
>>>>>>> 0a409253404759f4e4c42bb87b271dfbe7e41651
   "metadata": {},
   "outputs": [
    {
     "data": {
<<<<<<< HEAD
      "image/png": "iVBORw0KGgoAAAANSUhEUgAAAmAAAAHYCAYAAADqGlRVAAAABHNCSVQICAgIfAhkiAAAAAlwSFlzAAALEgAACxIB0t1+/AAAADl0RVh0U29mdHdhcmUAbWF0cGxvdGxpYiB2ZXJzaW9uIDMuMC4zLCBodHRwOi8vbWF0cGxvdGxpYi5vcmcvnQurowAAIABJREFUeJzt3X+UXWV97/H31wQcIClKgjQQZNI2FgVtgKnAVWyEIgHvRYH2SrpaEqQNtHqFdettQ2kXxyJKLxSqqxZLSwxca7jUiER+KCCOvy7UJBAxECABowyBoAFiKAQNfO8fZweHZE7mnPnxnDnJ+7XWrJl5zrP3+czDZPjM3vvsicxEkiRJ5bym3QEkSZJ2NRYwSZKkwixgkiRJhVnAJEmSCrOASZIkFWYBkyRJKswCJkmSVJgFTJIkqTALmCRJUmHj2x1gMJMnT87u7u5R2feG5zcwac9Jo7Lv0dSpuaFzs3dqbujc7J2aGzo3e6fmhs7N3qm5oXOzj3bu5cuX/zQz9x10YmaO6bcjjjgiR8uF37hw1PY9mjo1d2bnZu/U3Jmdm71Tc2d2bvZOzZ3Zudk7NXdm52Yf7dzAsmyi33gKUpIkqTALmCRJUmEWMEmSpMLG/EX4A/nFL35BX18fmzdvHtZ+Ttj7BFatWjVCqcoZqdxdXV1MnTqV3XbbbQRSSZKkZnVkAevr62PixIl0d3cTEUPez7pN69h/4v4jmKyMkcidmWzYsIG+vj6mTZs2QskkSVIzOvIU5ObNm5k0adKwyteuLiKYNGnSsI8iSpKk1nVkAQMsXyPANZQkqT0GLWARcWBEfCMiVkXE/RFxbjW+T0TcHhGrq/evr8YjIj4dEWsi4r6IOLzfvuZU81dHxJzR+7IkSZLGrmauAdsC/Hlm3hMRE4HlEXE7MBf4emZeEhHzgfnAXwInAtOrtyOBK4EjI2If4EKgB8hqP0sy85nhfhHd828extb3bjey9pL3NrXlDTfcwKmnnsqqVas4+OCDG85buHAh73nPe9h//6Fdt9Xb28tll13GTTfdNKTtJUnS2DLoEbDMfCIz76k+3gSsAg4A3gdcU027Bnh/9fH7gGurG8LeDbwuIqYAJwC3Z+bTVem6HZg1ol9NYYsWLeKd73wn11133Q7nLVy4kHXr1hVKJUmSxrqWXgUZEd3AYcB/APtl5hNQL2kR8YZq2gHAY/0266vGGo0P9DzzgHkAk6ZMotZbe9XjJ+x9Aus2jV6haWbf//ncf/Lt73yb62+6njNPP5N5fz4PgH/6h39i8XWLidcExx5/LG877G0sXbaUD8z+AF17dLHkjiXM/O2Z3PrNW9ln0j58/57vc9FfX8QXb/ki9y67lwvnX8jmzZvp6uri8isv5zem/wY/ff6nbN6y+ZVcm17cxDpG5ut/dvOz263vaOpd21v0+UZKp+aGzs3eqbmhc7N3am7o3Oydmhs6N/tYyd10AYuICcBi4LzM/NkOLuAe6IHcwfj2g5lXAVcB9PT0ZG1m7VWPr1q1apvbMGx/GnE4mrnFw+dv/DwnnXgSxxx+DG+Y/AaeXP0k69ev585b72T50uXsueeePP300+yzzz584eovcNlll9HT0wPAuBjHr074VSZPnMy6vdax+7jd2X/i/kw4YgJ3f/duxo8fzx133MGnLv4UixcvZvKek+ka3/VKrnWM3O0zNnZtpHZYbUT21Yxab41t/3t2gk7NDZ2bvVNzQ+dm79Tc0LnZOzU3dG720c79MT7W1LymClhE7Ea9fP1bZn6pGl4fEVOqo19TgKeq8T7gwH6bTwXWVeMztxnvbSrlGLRo0SLOO+88AE4//XQWLVrEyy+/zJlnnsmee+4JwD777NPSPjdu3MicOXNYvXo1EcEvfvGLEc8tSZLab9ACFvVDXVcDqzLz8n4PLQHmAJdU72/sN/7hiLiO+kX4G6uS9jXgE1tfLQm8Bzh/ZL6MsjZs2MCdd97JypUriQheeuklIoLTTjutqVs7jB8/npdffhngVffh+pu/+Rve/e53c8MNN7B27Vpmzpw5Wl+CJElqo2buA/YO4I+AYyNiRfV2EvXidXxErAaOrz4HuAV4FFgD/AvwZwCZ+TRwEbC0evvbaqzjfPGLX+SMM87gRz/6EWvXruWxxx5j2rRp7LPPPixYsIDnn38egKefrn95EydOZNOmTa9s393dzfLlywFYvHjxK+MbN27kgAPql8UtXLiw0FcjSZJKG/QIWGZ+h4Gv3wI4boD5CXyowb4WAAtaCdiMZm8bsa2h/kmfRYsWMX/+/FeNnXbaaaxatYqTTz6Znp4edt99d0466SQ+8YlPMHfuXM455xz22GMP7rrrLi688ELOOussPvGJT3DkkUe+so+/+Iu/YM6cOVx++eUce+yxQ/qaJEnS2NeRfwuy3Xp7e7cb+8hHPvLKxwOVs9NOO+2Vz4855hgefvjh7fZx9NFHv2r8oosuAmDmzJmejpQkaSfSsX+KSJIkqVNZwCRJkgrzFKTUjN5PQu8Vzc+vbRy9LJKkjucRMEmSpMIsYJIkSYVZwCRJkgrbOa4Bq+09pM0a3gGsiet3xo0bx1vf+la2bNnCm9/8Zq655ppX/gRRq3p7e7nsssu46aabWLJkCQ888MB2t7LY6tlnn2XhgoX81f/8q5aeo1arMWHCBD760Y8OKaMkSRo5HgEboj322IMVK1awcuVKdt99dz772c++6vHMfOXPDbXi5JNPbli+oF7Arv3Xa1veryRJGjt2jiNgbXbMMcdw3333sXbtWk488UTe/e53c9ddd/HlL3+Zhx56iAsvvJAXX3yRX//1X+dzn/scEyZM4Ktf/SrnnXcekydP5vDDD39lXwsXLmTZsmX84z/+I+vXr+ecc87h0UcfBeDKK6/k05/+ND/64Y+YMWMGxx9/PJdeeimXXnop119/PS+++CKnnHIKH/tY/S+xX3zxxVx77bUceOCB7LvvvhxxxBFtWR9JkkZT9/ybm547d9YoBmmBR8CGacuWLdx666289a1vBeChhx7ijDPO4N5772Wvvfbi4x//OHfccQf33HMPPT09XH755WzevJk/+ZM/4Stf+Qrf/va3efLJJwfc90c+8hF+53d+h+9///vcc889HHLIIVxyySUcNO0gVqxYwaWXXsptt93G6tWr+d73vseKFStYvnw53/rWt1i+fDnXXXcd9957L1/60pdYunRpyWWRJEk74BGwIXrhhReYMWMGUD8CdtZZZ7Fu3ToOOuggjjrqKADuvvtuHnjgAd7xjncA8POf/5yjjz6aBx98kGnTpjF9+nQA/vAP/5Crrrpqu+e48847ufba+unGcePGsffee/PMM8+8as5tt93GbbfdxmGHHQbAc889x+rVq9m0aROnnHLKK9elnXzyyaOwCpIkaSgsYEO09Rqwbe21116vfJyZHH/88SxatOhVc1asWEFEo79v3prM5Pzzz+fss89+1fg//MM/jNhzSJKkkeUpyFF01FFH8d3vfpc1a9YA8Pzzz/Pwww9z8MEH88Mf/pBHHnkEYLuCttVxxx3HlVdeCcBLL73Ez372MyZOnMhzzz33ypwTTjiBBQsWvDL2+OOP89RTT/Gud72LG264gRdeeIFNmzbxla98ZTS/VEmS1IKd4wjYEP/sy7pN69h/YsObUQzbvvvuy8KFC5k9ezYvvvgiAB//+Md505vexFVXXcV73/teJk+ezDvf+U5Wrly53faf+tSnmDdvHldffTXjxo3jyiuv5Oijj+a3j/xtDj30UE488UQuvfRSVq1axdFHHw3AhAkT+PznP8/hhx/OBz7wAWbMmMFBBx3EMcccM2pfpyRJas3OUcDaoP9RqK26u7u3K1LHHnvsgBfAz5o1iwcffHC78blz5zJ37lwA9ttvP2688cbt5nxmwWdeVRzPPfdczj333O3mXXDBBVxwwQWDfi2SJKksT0FKkiQV5hEwSZLUut5PQu8Vzc0d4qVCO7OOPQKWme2O0PFcQ0mS2qMjC1hXVxcbNmywQAxDZrJhwwa6urraHUWSpF1OR56CnDp1Kn19ffzkJz8Z1n6e3fwsG7s677DoSOXu6upi6tSpI5BIkiS1oiML2G677ca0adOGvZ9ab43aYbXhByqsU3NLkqS6jjwFKUmS1Mk68giYJEkaWd3zb25p/lwvIR4WC5gkSdp1tHL7DBi1W2h4ClKSJKmwXfsImDeRkyRJbeARMEmSpMJ27SNgkiSNsFYuZp87axSDaEzzCJgkSVJhFjBJkqTCLGCSJEmFWcAkSZIKs4BJkiQV5qsgJY1NY+Ru1ZI0GjwCJkmSVJgFTJIkqTALmCRJUmEWMEmSpMIsYJIkSYVZwCRJkgqzgEmSJBVmAZMkSSps0AIWEQsi4qmIWNlv7P9GxIrqbW1ErKjGuyPihX6PfbbfNkdExA8iYk1EfDoiYnS+JEmSpLGtmTvhLwT+Ebh260BmfmDrxxHx90D/W1A/kpkzBtjPlcA84G7gFmAWcGvrkSVJkjrboEfAMvNbwNMDPVYdxfrvwKId7SMipgC/kpl3ZWZSL3Pvbz2uJElS5xvuNWDHAOszc3W/sWkRcW9EfDMijqnGDgD6+s3pq8YkSZJ2OcP9Y9yzefXRryeAN2bmhog4AvhyRBwCDHS9VzbaaUTMo366kklTJlHrrQ0z5sB62UKNzU1OHp0MQ9G7tnfU1mS0dWr2lr5XwO+XEeCal9epuWFsZX92/MNNz+1du64jc8PY+n9oS2s+Rn62RP2M4CCTIrqBmzLz0H5j44HHgSMys6/Bdr3AR6t538jMg6vx2cDMzDx7sOfu6enJZcuWDZpxKGq111Kjq8nJGwefU0itt0ZtZq3dMYakU7O39L0Cfr+MANe8vE7NDWMre/f8m5ueO3fW0o7MDTC369Qx8//Qlta8ldzQcvaIWJ6ZPYPNG84pyN8FHuxfviJi34gYV338a8B04NHMfALYFBFHVdeNnQHcOIznliRJ6ljN3IZiEXAX8JsR0RcRZ1UPnc72F9+/C7gvIr4PfBE4JzO3XsD/p8C/AmuAR/AVkJIkaRc16DVgmTm7wfjcAcYWA4sbzF8GHDrQY5IkSbsS74QvSZJUmAVMkiSpMAuYJElSYcO9D5ikwlp+qfisUQqinU/vJ6H3iubnj6Fbf0idxiNgkiRJhVnAJEmSCrOASZIkFWYBkyRJKswCJkmSVJgFTJIkqTALmCRJUmEWMEmSpMIsYJIkSYVZwCRJkgqzgEmSJBVmAZMkSSrMAiZJklSYBUySJKkwC5gkSVJh49sdYCR1z7+5pflzu0YpiCRJ0g7sVAVM0tjWyi9J/oIkaWfmKUhJkqTCLGCSJEmFWcAkSZIKs4BJkiQV5kX4kiS1S+8nofeK5ufXNo5eFhXlETBJkqTCLGCSJEmFWcAkSZIK8xowaWfXyjUmXl8iSUV4BEySJKkwC5gkSVJhFjBJkqTCLGCSJEmFeRG+JO3Euuff3PTcuV2jGETSq3gETJIkqTALmCRJUmEWMEmSpMIsYJIkSYVZwCRJkgqzgEmSJBVmAZMkSSrMAiZJklSYBUySJKmwQQtYRCyIiKciYmW/sVpEPB4RK6q3k/o9dn5ErImIhyLihH7js6qxNRExf+S/FEmSpM7QzBGwhcCsAcavyMwZ1dstABHxFuB04JBqm3+KiHERMQ74DHAi8BZgdjVXkiRplzPo34LMzG9FRHeT+3sfcF1mvgj8MCLWAG+vHluTmY8CRMR11dwHWk6sMaWVvzMHMHegKi9J0i5mONeAfTgi7qtOUb6+GjsAeKzfnL5qrNG4JEnSLmfQI2ANXAlcBGT1/u+BDwIxwNxk4KKXjXYeEfOAeQCTpkyi1ltrKtSz4x9uat5WvWyhxuYmJzeXoYTetb1Nr8loa3nN164bM9lb0dL3Cozq90snf5+3kn0srXmrOvXfqGs+Mjp1zf3Z0miDWuuBmjCkApaZ67d+HBH/AtxUfdoHHNhv6lRgXfVxo/GB9n8VcBVAT09P1mbWmsq18KutnQ6bOX4xNbqanNxchhJqvTWaXZPR1vKady8dM9lbUev9ZPPfKzCq3y+d/H3eSvaWcoP/Rhtwzcvr1DX3Z0ujDWotZfkYH2tq3pAKWERMycwnqk9PAba+QnIJ8IWIuBzYH5gOfI/6kbHpETENeJz6hfp/MJTnlkZKK9evzW3h36okSYMZtIBFxCJgJjA5IvqAC4GZETGD+mnEtcDZAJl5f0RcT/3i+i3AhzLzpWo/Hwa+BowDFmTm/SP+1UiSJHWAZl4FOXuA4at3MP9i4OIBxm8BbmkpnSRJ0k7IO+FLkiQVZgGTJEkqzAImSZJUmAVMkiSpsKHeiFWSpLGj95PQe0Vzc2sbRzeL1ASPgEmSJBVmAZMkSSrMU5BjREt3ZZ81ikEkaQxo5Wci+Ncq1Hk8AiZJklSYBUySJKkwC5gkSVJhFjBJkqTCvAi/E7VyvxvwnjeSJI0xHgGTJEkqzAImSZJUmAVMkiSpMAuYJElSYRYwSZKkwixgkiRJhXkbCpXVyi00vH2GJGkn5REwSZKkwixgkiRJhVnAJEmSCvMaMEkaaV7rKGkQHgGTJEkqzAImSZJUmAVMkiSpMK8Bk6RBdM+/uaX5c7tGKYiknYZHwCRJkgqzgEmSJBVmAZMkSSrMAiZJklSYBUySJKkwC5gkSVJhFjBJkqTCLGCSJEmFWcAkSZIKs4BJkiQVZgGTJEkqzAImSZJUmAVMkiSpMAuYJElSYRYwSZKkwixgkiRJhQ1awCJiQUQ8FREr+41dGhEPRsR9EXFDRLyuGu+OiBciYkX19tl+2xwRET+IiDUR8emIiNH5kiRJksa2Zo6ALQRmbTN2O3BoZr4NeBg4v99jj2TmjOrtnH7jVwLzgOnV27b7lCRJ2iUMWsAy81vA09uM3ZaZW6pP7wam7mgfETEF+JXMvCszE7gWeP/QIkuSJHW2kbgG7IPArf0+nxYR90bENyPimGrsAKCv35y+akySJGmXM344G0fEBcAW4N+qoSeAN2bmhog4AvhyRBwCDHS9V+5gv/Oon65k0pRJ1HprTeV5dvzDzYcHetlCjc1NTm4uw1C1kr2l3DCq2V3zRhvUWg/UJNe80Qa11gM1yTVvtEGt9UBNcs0bbVBrPVCTXPNGG9RaD9SEqJ8RHGRSRDdwU2Ye2m9sDnAOcFxmPt9gu17go8DjwDcy8+BqfDYwMzPPHuy5e3p6ctmyZYNmBOief3NT87aa23UqNbqam1zb2NK+W9VK9pZyw6hmd80bcM0H5JoPwDUfkGvegGs+oLG05hGxPDN7Bps3pFOQETEL+Evg5P7lKyL2jYhx1ce/Rv1i+0cz8wlgU0QcVb368QzgxqE8tyRJUqcb9BRkRCwCZgKTI6IPuJD6qx5fC9xe3U3i7uoVj+8C/jYitgAvAedk5tYL+P+U+isq96B+zVj/68YkSZJ2GYMWsMycPcDw1Q3mLgYWN3hsGXDoQI9JkiTtSrwTviRJUmEWMEmSpMIsYJIkSYVZwCRJkgqzgEmSJBVmAZMkSSrMAiZJklSYBUySJKkwC5gkSVJhFjBJkqTCLGCSJEmFWcAkSZIKs4BJkiQVZgGTJEkqzAImSZJUmAVMkiSpMAuYJElSYRYwSZKkwixgkiRJhVnAJEmSCrOASZIkFWYBkyRJKswCJkmSVJgFTJIkqTALmCRJUmEWMEmSpMIsYJIkSYVZwCRJkgqzgEmSJBVmAZMkSSrMAiZJklSYBUySJKkwC5gkSVJhFjBJkqTCLGCSJEmFWcAkSZIKs4BJkiQVZgGTJEkqzAImSZJUmAVMkiSpMAuYJElSYRYwSZKkwixgkiRJhVnAJEmSCmuqgEXEgoh4KiJW9hvbJyJuj4jV1fvXV+MREZ+OiDURcV9EHN5vmznV/NURMWfkvxxJkqSxr9kjYAuBWduMzQe+npnTga9XnwOcCEyv3uYBV0K9sAEXAkcCbwcu3FraJEmSdiVNFbDM/Bbw9DbD7wOuqT6+Bnh/v/Frs+5u4HURMQU4Abg9M5/OzGeA29m+1EmSJO30hnMN2H6Z+QRA9f4N1fgBwGP95vVVY43GJUmSdinjR2GfMcBY7mB8+x1EzKN++pJJUyZR66019cTPjn+4uYSVXrZQY3OTk5vLMFStZG8pN4xqdte80Qa11gM1yTVvtEGt9UBNcs0bbVBrPVCTXPNGG9RaD9Qk17zRBrXWAzUhMgfsQNtPjOgGbsrMQ6vPHwJmZuYT1SnG3sz8zYj45+rjRf3nbX3LzLOr8VfNa6SnpyeXLVvWVMbu+Tc3NW+ruV2nUqOrucm1jS3tu1WtZG8pN4xqdte8Add8QK75AFzzAbnmDbjmAxpLax4RyzOzZ7B5wzkFuQTY+krGOcCN/cbPqF4NeRSwsTpF+TXgPRHx+uri+/dUY5IkSbuUpk5BRsQi6kewJkdEH/VXM14CXB8RZwE/Bn6/mn4LcBKwBngeOBMgM5+OiIuApdW8v83MbS/slyRJ2uk1VcAyc3aDh44bYG4CH2qwnwXAgqbTSZIk7YS8E74kSVJhFjBJkqTCLGCSJEmFWcAkSZIKs4BJkiQVZgGTJEkqzAImSZJUmAVMkiSpMAuYJElSYRYwSZKkwixgkiRJhVnAJEmSCrOASZIkFWYBkyRJKswCJkmSVJgFTJIkqTALmCRJUmEWMEmSpMIsYJIkSYVZwCRJkgqzgEmSJBVmAZMkSSrMAiZJklSYBUySJKkwC5gkSVJhFjBJkqTCLGCSJEmFWcAkSZIKs4BJkiQVZgGTJEkqzAImSZJUmAVMkiSpMAuYJElSYRYwSZKkwixgkiRJhVnAJEmSCrOASZIkFWYBkyRJKswCJkmSVJgFTJIkqTALmCRJUmEWMEmSpMIsYJIkSYVZwCRJkgobcgGLiN+MiBX93n4WEedFRC0iHu83flK/bc6PiDUR8VBEnDAyX4IkSVJnGT/UDTPzIWAGQESMAx4HbgDOBK7IzMv6z4+ItwCnA4cA+wN3RMSbMvOloWaQJEnqRCN1CvI44JHM/NEO5rwPuC4zX8zMHwJrgLeP0PNLkiR1jCEfAdvG6cCifp9/OCLOAJYBf56ZzwAHAHf3m9NXjW0nIuYB8wAmTZlErbfWVIhnxz/cUuhetlBjc5OTm8swVK1kbyk3jGp217zRBrXWAzXJNW+0Qa31QE1yzRttUGs9UJNc80Yb1FoP1CTXvNEGtdYDNSEyc3g7iNgdWAcckpnrI2I/4KdAAhcBUzLzgxHxGeCuzPx8td3VwC2ZuXhH++/p6clly5Y1laV7/s0tZZ/bdSo1upqbXNvY0r5b1Ur2lnLDqGZ3zRtwzQfkmg/ANR+Qa96Aaz6gsbTmEbE8M3sGmzcSpyBPBO7JzPUAmbk+M1/KzJeBf+GXpxn7gAP7bTeVenGTJEnapYxEAZtNv9OPETGl32OnACurj5cAp0fEayNiGjAd+N4IPL8kSVJHGdY1YBGxJ3A8cHa/4f8dETOon4Jcu/WxzLw/Iq4HHgC2AB/yFZCSJGlXNKwClpnPA5O2GfujHcy/GLh4OM8pSZLU6bwTviRJUmEWMEmSpMIsYJIkSYVZwCRJkgqzgEmSJBVmAZMkSSrMAiZJklSYBUySJKkwC5gkSVJhFjBJkqTCLGCSJEmFWcAkSZIKs4BJkiQVZgGTJEkqzAImSZJUmAVMkiSpMAuYJElSYRYwSZKkwixgkiRJhVnAJEmSCrOASZIkFWYBkyRJKswCJkmSVJgFTJIkqTALmCRJUmEWMEmSpMIsYJIkSYVZwCRJkgqzgEmSJBVmAZMkSSrMAiZJklSYBUySJKkwC5gkSVJhFjBJkqTCLGCSJEmFWcAkSZIKs4BJkiQVZgGTJEkqzAImSZJUmAVMkiSpMAuYJElSYRYwSZKkwixgkiRJhVnAJEmSCht2AYuItRHxg4hYERHLqrF9IuL2iFhdvX99NR4R8emIWBMR90XE4cN9fkmSpE4zUkfA3p2ZMzKzp/p8PvD1zJwOfL36HOBEYHr1Ng+4coSeX5IkqWOM1inI9wHXVB9fA7y/3/i1WXc38LqImDJKGSRJksak8SOwjwRui4gE/jkzrwL2y8wnADLziYh4QzX3AOCxftv2VWNP9N9hRMyjfoSMSVMmUeutNRXk2fEPtxS8ly3U2Nzk5OYyDFUr2VvKDaOa3TVvtEGt9UBNcs0bbVBrPVCTXPNGG9RaD9Qk17zRBrXWAzXJNW+0Qa31QE2IzBzeDiL2z8x1Vcm6HfgfwJLMfF2/Oc9k5usj4mbgk5n5nWr868BfZObyRvvv6enJZcuWNZWle/7NLWWf23UqNbqam1zb2NK+W9VK9pZyw6hmd80bcM0H5JoPwDUfkGvegGs+oLG05hGxvN8lWQ0N+xRkZq6r3j8F3AC8HVi/9dRi9f6panofcGC/zacC64abQZIkqZMMq4BFxF4RMXHrx8B7gJXAEmBONW0OcGP18RLgjOrVkEcBG7eeqpQkSdpVDPcasP2AGyJi676+kJlfjYilwPURcRbwY+D3q/m3ACcBa4DngTOH+fySJEkdZ1gFLDMfBX5rgPENwHEDjCfwoeE8pyRJUqfzTviSJEmFWcAkSZIKs4BJkiQVZgGTJEkqzAImSZJUmAVMkiSpMAuYJElSYRYwSZKkwixgkiRJhVnAJEmSCrOASZIkFWYBkyRJKswCJkmSVJgFTJIkqTALmCRJUmEWMEmSpMIsYJIkSYVZwCRJkgqzgEmSJBVmAZMkSSrMAiZJklSYBUySJKkwC5gkSVJhFjBJkqTCLGCSJEmFWcAkSZIKs4BJkiQVZgGTJEkqzAImSZJUmAVMkiSpMAuYJElSYRYwSZKkwixgkiRJhVnAJEmSCrOASZIkFWYBkyRJKswCJkmSVJgFTJIkqTALmCRJUmEWMEmSpMIsYJIkSYVZwCRJkgqzgEmSJBVmAZMkSSpsyAUsIg6MiG9ExKqIuD8izq3GaxHxeESsqN5O6rfN+RGxJiIeiogTRuILkCRJ6jTjh7HtFuDPM/OeiJgILI+I26vHrsjMy/pPjoi3AKcDhwD7A3dExJsy86VhZJAkSeo4Qz4ClplPZOY91cebgFV1sG6MAAAJgElEQVTAATvY5H3AdZn5Ymb+EFgDvH2ozy9JktSphnME7BUR0Q0cBvwH8A7gwxFxBrCM+lGyZ6iXs7v7bdZHg8IWEfOAeQCTpkyi1ltrKsez4x9uKXcvW6ixucnJzWUYqlayt5QbRjW7a95og1rrgZrkmjfaoNZ6oCa55o02qLUeqEmueaMNaq0HapJr3miDWuuBmhCZObwdREwAvglcnJlfioj9gJ8CCVwETMnMD0bEZ4C7MvPz1XZXA7dk5uId7b+npyeXLVvWVJbu+Te3lH1u16nU6Gpucm1jS/tuVSvZW8oNo5rdNW/ANR+Qaz4A13xArnkDrvmAxtKaR8TyzOwZbN6wXgUZEbsBi4F/y8wvAWTm+sx8KTNfBv6FX55m7AMO7Lf5VGDdcJ5fkiSpEw3nVZABXA2syszL+41P6TftFGBl9fES4PSIeG1ETAOmA98b6vNLkiR1quFcA/YO4I+AH0TEimrsr4DZETGD+inItcDZAJl5f0RcDzxA/RWUH/IVkJIkaVc05AKWmd8BYoCHbtnBNhcDFw/1OSVJknYG3glfkiSpMAuYJElSYRYwSZKkwixgkiRJhVnAJEmSCrOASZIkFWYBkyRJKswCJkmSVJgFTJIkqTALmCRJUmEWMEmSpMIsYJIkSYVZwCRJkgqzgEmSJBVmAZMkSSrMAiZJklSYBUySJKkwC5gkSVJhFjBJkqTCLGCSJEmFWcAkSZIKs4BJkiQVZgGTJEkqzAImSZJUmAVMkiSpMAuYJElSYRYwSZKkwixgkiRJhVnAJEmSCrOASZIkFWYBkyRJKswCJkmSVJgFTJIkqTALmCRJUmEWMEmSpMIsYJIkSYVZwCRJkgqzgEmSJBVmAZMkSSrMAiZJklSYBUySJKkwC5gkSVJhFjBJkqTCLGCSJEmFFS9gETErIh6KiDURMb/080uSJLVb0QIWEeOAzwAnAm8BZkfEW0pmkCRJarfSR8DeDqzJzEcz8+fAdcD7CmeQJElqq8jMck8W8XvArMz84+rzPwKOzMwPbzNvHjCv+vQ3gYdGKdJk4KejtO/R1Km5oXOzd2pu6NzsnZobOjd7p+aGzs3eqbmhc7OPdu6DMnPfwSaNH8UAA4kBxrZrgJl5FXDVqIeJWJaZPaP9PCOtU3ND52bv1NzQudk7NTd0bvZOzQ2dm71Tc0PnZh8ruUufguwDDuz3+VRgXeEMkiRJbVW6gC0FpkfEtIjYHTgdWFI4gyRJUlsVPQWZmVsi4sPA14BxwILMvL9khm2M+mnOUdKpuaFzs3dqbujc7J2aGzo3e6fmhs7N3qm5oXOzj4ncRS/ClyRJknfClyRJKs4CJkmSVJgFTJIkqbDS9wFrm4g4mPpd9w+gfu+xdcCSzFzV1mA7uWrdDwD+IzOf6zc+KzO/2r5kOxYRbwcyM5dWfy5rFvBgZt7S5mgtiYhrM/OMdudoVUS8k/pfzliZmbe1O8+ORMSRwKrM/FlE7AHMBw4HHgA+kZkb2xqwgYj4CHBDZj7W7iyt6PcK+nWZeUdE/AHwX4BVwFWZ+Yu2BhxERPw6cAr1WzJtAVYDi8bq94lGzy5xEX5E/CUwm/qfPuqrhqdS/0d8XWZe0q5swxERZ2bm59qdo5HqB/yHqP9gnAGcm5k3Vo/dk5mHtzNfIxFxIfW/VzoeuB04EugFfhf4WmZe3L50jUXEtrd0CeDdwJ0AmXly8VBNiojvZebbq4//hPr3zQ3Ae4CvjOV/oxFxP/Bb1au8rwKeB74IHFeNn9rWgA1ExEbgP4FHgEXAv2fmT9qbanAR8W/U/23uCTwLTAC+RH29IzPntDHeDlU/E/8b8E3gJGAF8Az1QvZnmdnbvnQqbVcpYA8Dh2z7m1H1m9T9mTm9PcmGJyJ+nJlvbHeORiLiB8DRmflcRHRT/5/S/8nMT0XEvZl5WFsDNlDlngG8FngSmNrv6MZ/ZObb2hqwgYi4h/pRl3+lfpQ3qP+P9XSAzPxm+9LtWP/vh4hYCpyUmT+JiL2AuzPzre1N2FhErMrMN1cfv+oXi4hYkZkz2peusYi4FziC+i8WHwBOBpZT/575UmZuamO8hiLivsx8W0SMBx4H9s/MlyIigO+P1X+f8MufLVXePYFbMnNmRLwRuHGs/kwEiIi9gfOB9wNb/8zOU8CNwCWZ+Wy7sg1VRNyamSe26/l3lVOQLwP7Az/aZnxK9diYFRH3NXoI2K9kliEYt/W0Y2aujYiZwBcj4iAG/rNUY8WWzHwJeD4iHsnMnwFk5gsRMZa/X3qAc4ELgP+VmSsi4oWxXLz6eU1EvJ76damx9UhMZv5nRGxpb7RBrex3NPr7EdGTmcsi4k3AWD4dlpn5MnAbcFtE7Eb9yO9s4DJ++T/ZseY11S/Pe1E/CrY38DT1X5h2a2ewJo0HXqKedyJAZv64Wv+x7HrqR9NnZuaTABHxq8Ac4N+B49uYraGIaHSmJaj/ot02u0oBOw/4ekSsBrZe7/BG4DeADzfcamzYDziB+mHq/gL4f+XjtOTJiJiRmSsAqiNh/xVYAIzZIxrAzyNiz8x8nvoRAuCV3wDHbAGr/md6RUT8e/V+PZ3zb3xv6kdfAsiI+NXMfDIiJjC2yzrAHwOfioi/pv4Hfu+KiMeo/6z547Ym27FXrWt1hmAJsKQ62jtWXQ08SP1m3hcA/x4RjwJHUb/MZCz7V2BpRNwNvAv4O4CI2Jd6iRzLujPz7/oPVEXs7yLig23K1Iyl1E/5DvRz5HWFs7zKLnEKEiAiXkP9ot4DqP+H6AOWVkc6xqyIuBr4XGZ+Z4DHvpCZf9CGWE2JiKnUjyY9OcBj78jM77Yh1qAi4rWZ+eIA45OBKZn5gzbEallEvBd4R2b+VbuzDFV1mma/zPxhu7MMJiImAr9GvfT2Zeb6NkfaoYh4U2Y+3O4cQxER+wNk5rqIeB3106g/zszvtTfZ4CLiEODN1F9g8mC78zQrIm4D7gCu2fq9HRH7AXOB4zPzd9sYr6GIWAmckpmrB3jsscw8cIDNithlCpgkSRqa6hKB+dTvJvCGang99aOml2TmtmdpxoSI+D3gB5n50ACPvT8zv9yGWPXnt4BJkqShGuuvyG+k3bktYJIkacjG+ivyG2l37k65QFeSJLVJp74ifyzntoBJkqTBdOor8sdsbguYJEkazE3AhK23FeovInrLx2namM3tNWCSJEmFvabdASRJknY1FjBJkqTCLGCSJEmFWcAkSZIKs4BJkiQV9v8BaA3TOXc936UAAAAASUVORK5CYII=\n",
=======
      "image/png": "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\n",
>>>>>>> 0a409253404759f4e4c42bb87b271dfbe7e41651
      "text/plain": [
       "<Figure size 720x576 with 1 Axes>"
      ]
     },
     "metadata": {
      "needs_background": "light"
     },
     "output_type": "display_data"
    }
   ],
   "source": [
<<<<<<< HEAD
    "df.plot(kind='bar',figsize=(10,8))\n",
=======
    "df_subset.plot(kind='bar',figsize=(10,8))\n",
    "tick_locations = [value for value in range(0,len(df_subset))]\n",
    "plt.xticks(tick_locations, zipcode)\n",
>>>>>>> 0a409253404759f4e4c42bb87b271dfbe7e41651
    "plt.grid(which='major', linestyle='-', linewidth='0.5', color='green')\n",
    "plt.grid(which='minor', linestyle=':', linewidth='0.5', color='black')\n",
    "plt.title(\"Actual vs Predicted Median Rent Values by Zipcode\")\n",
    "plt.ylabel(\"Median Rent Value\")\n",
    "plt.xlabel(\"Zipcode\")\n",
    "plt.savefig(\"actual vs predicted.png\", bbox_inches=\"tight\")\n",
    "plt.show()"
   ]
  },
  {
   "cell_type": "code",
   "execution_count": 47,
   "metadata": {},
   "outputs": [
    {
     "name": "stdout",
     "output_type": "stream",
     "text": [
      "Mean Absolute Error: 136.32335513715756\n",
      "Mean Squared Error: 34242.45570199571\n",
      "Root Mean Squared Error: 185.04717155902628\n"
     ]
    }
   ],
   "source": [
    "print('Mean Absolute Error:', metrics.mean_absolute_error(y_test, y_pred))  \n",
    "print('Mean Squared Error:', metrics.mean_squared_error(y_test, y_pred))  \n",
    "print('Root Mean Squared Error:', np.sqrt(metrics.mean_squared_error(y_test, y_pred)))"
   ]
  },
  {
   "cell_type": "code",
   "execution_count": 48,
   "metadata": {},
   "outputs": [
    {
     "name": "stdout",
     "output_type": "stream",
     "text": [
      "185.04717155902628\n"
     ]
    }
   ],
   "source": [
    "from sklearn.metrics import mean_squared_error\n",
    "from math import sqrt\n",
    "\n",
    "rms = sqrt(mean_squared_error(y_test, y_pred))\n",
    "print(rms)"
   ]
  },
  {
   "cell_type": "code",
   "execution_count": null,
   "metadata": {},
   "outputs": [],
   "source": []
  },
  {
   "cell_type": "code",
   "execution_count": null,
   "metadata": {},
   "outputs": [],
   "source": []
  }
 ],
 "metadata": {
  "anaconda-cloud": {},
  "kernelspec": {
   "display_name": "Python 3",
   "language": "python",
   "name": "python3"
  },
  "language_info": {
   "codemirror_mode": {
    "name": "ipython",
    "version": 3
   },
   "file_extension": ".py",
   "mimetype": "text/x-python",
   "name": "python",
   "nbconvert_exporter": "python",
   "pygments_lexer": "ipython3",
   "version": "3.7.3"
  }
 },
 "nbformat": 4,
 "nbformat_minor": 1
}
