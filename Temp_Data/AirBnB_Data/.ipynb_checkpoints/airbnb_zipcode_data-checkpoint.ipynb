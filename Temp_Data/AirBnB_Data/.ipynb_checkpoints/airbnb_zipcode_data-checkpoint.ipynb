{
 "cells": [
  {
   "cell_type": "code",
   "execution_count": 104,
   "metadata": {},
   "outputs": [],
   "source": [
    "import pandas as pd\n",
    "import numpy as np\n",
    "from pprint import pprint"
   ]
  },
  {
   "cell_type": "code",
   "execution_count": 105,
   "metadata": {},
   "outputs": [],
   "source": [
    "airbnb_df = pd.read_csv('airbnb_cleaned.csv')\n",
    "zipcode_df = pd.read_csv('zip_list.csv')"
   ]
  },
  {
   "cell_type": "code",
   "execution_count": 120,
   "metadata": {},
   "outputs": [
    {
     "data": {
      "text/html": [
       "<div>\n",
       "<style scoped>\n",
       "    .dataframe tbody tr th:only-of-type {\n",
       "        vertical-align: middle;\n",
       "    }\n",
       "\n",
       "    .dataframe tbody tr th {\n",
       "        vertical-align: top;\n",
       "    }\n",
       "\n",
       "    .dataframe thead th {\n",
       "        text-align: right;\n",
       "    }\n",
       "</style>\n",
       "<table border=\"1\" class=\"dataframe\">\n",
       "  <thead>\n",
       "    <tr style=\"text-align: right;\">\n",
       "      <th></th>\n",
       "      <th>name</th>\n",
       "      <th>neighbourhood</th>\n",
       "      <th>latitude</th>\n",
       "      <th>longitude</th>\n",
       "      <th>number_of_reviews</th>\n",
       "      <th>Zipcode</th>\n",
       "    </tr>\n",
       "  </thead>\n",
       "  <tbody>\n",
       "    <tr>\n",
       "      <th>0</th>\n",
       "      <td>Hyde Park - Walk to UChicago/Metra to McCormic...</td>\n",
       "      <td>Hyde Park</td>\n",
       "      <td>41.78886</td>\n",
       "      <td>-87.58671</td>\n",
       "      <td>149</td>\n",
       "      <td>60637</td>\n",
       "    </tr>\n",
       "    <tr>\n",
       "      <th>1</th>\n",
       "      <td>We're back. 365 Great Reviews.  1 bad one.</td>\n",
       "      <td>South Lawndale</td>\n",
       "      <td>41.85495</td>\n",
       "      <td>-87.69696</td>\n",
       "      <td>368</td>\n",
       "      <td>60608</td>\n",
       "    </tr>\n",
       "    <tr>\n",
       "      <th>2</th>\n",
       "      <td>Tiny Studio Apartment 94 Walk Score</td>\n",
       "      <td>West Town</td>\n",
       "      <td>41.90289</td>\n",
       "      <td>-87.68182</td>\n",
       "      <td>338</td>\n",
       "      <td>60622</td>\n",
       "    </tr>\n",
       "    <tr>\n",
       "      <th>3</th>\n",
       "      <td>Barbara's Hideaway - Old Town</td>\n",
       "      <td>Lincoln Park</td>\n",
       "      <td>41.91769</td>\n",
       "      <td>-87.63788</td>\n",
       "      <td>35</td>\n",
       "      <td>60614</td>\n",
       "    </tr>\n",
       "    <tr>\n",
       "      <th>4</th>\n",
       "      <td>3 Comforts of Cooperative Living</td>\n",
       "      <td>Hyde Park</td>\n",
       "      <td>41.79708</td>\n",
       "      <td>-87.59195</td>\n",
       "      <td>38</td>\n",
       "      <td>60615</td>\n",
       "    </tr>\n",
       "  </tbody>\n",
       "</table>\n",
       "</div>"
      ],
      "text/plain": [
       "                                                name   neighbourhood  \\\n",
       "0  Hyde Park - Walk to UChicago/Metra to McCormic...       Hyde Park   \n",
       "1         We're back. 365 Great Reviews.  1 bad one.  South Lawndale   \n",
       "2                Tiny Studio Apartment 94 Walk Score       West Town   \n",
       "3                      Barbara's Hideaway - Old Town    Lincoln Park   \n",
       "4                   3 Comforts of Cooperative Living       Hyde Park   \n",
       "\n",
       "   latitude  longitude  number_of_reviews  Zipcode  \n",
       "0  41.78886  -87.58671                149    60637  \n",
       "1  41.85495  -87.69696                368    60608  \n",
       "2  41.90289  -87.68182                338    60622  \n",
       "3  41.91769  -87.63788                 35    60614  \n",
       "4  41.79708  -87.59195                 38    60615  "
      ]
     },
     "execution_count": 120,
     "metadata": {},
     "output_type": "execute_result"
    }
   ],
   "source": [
    "airbnb_zipcode_df = airbnb_df.join(zipcode_df)\n",
    "airbnb_zipcode_df.head()"
   ]
  },
  {
   "cell_type": "code",
   "execution_count": 122,
   "metadata": {},
   "outputs": [
    {
     "data": {
      "text/html": [
       "<div>\n",
       "<style scoped>\n",
       "    .dataframe tbody tr th:only-of-type {\n",
       "        vertical-align: middle;\n",
       "    }\n",
       "\n",
       "    .dataframe tbody tr th {\n",
       "        vertical-align: top;\n",
       "    }\n",
       "\n",
       "    .dataframe thead th {\n",
       "        text-align: right;\n",
       "    }\n",
       "</style>\n",
       "<table border=\"1\" class=\"dataframe\">\n",
       "  <thead>\n",
       "    <tr style=\"text-align: right;\">\n",
       "      <th></th>\n",
       "      <th>name</th>\n",
       "      <th>neighbourhood</th>\n",
       "      <th>latitude</th>\n",
       "      <th>longitude</th>\n",
       "      <th>number_of_reviews</th>\n",
       "      <th>Zipcode</th>\n",
       "    </tr>\n",
       "  </thead>\n",
       "  <tbody>\n",
       "    <tr>\n",
       "      <th>0</th>\n",
       "      <td>perfect corporate rental</td>\n",
       "      <td>Hegewisch</td>\n",
       "      <td>41.65578</td>\n",
       "      <td>-87.53790</td>\n",
       "      <td>2</td>\n",
       "      <td>46327</td>\n",
       "    </tr>\n",
       "    <tr>\n",
       "      <th>1</th>\n",
       "      <td>The Brummel Full Apartment</td>\n",
       "      <td>Rogers Park</td>\n",
       "      <td>42.02243</td>\n",
       "      <td>-87.68409</td>\n",
       "      <td>0</td>\n",
       "      <td>60202</td>\n",
       "    </tr>\n",
       "    <tr>\n",
       "      <th>2</th>\n",
       "      <td>Chicago OakPark Connects</td>\n",
       "      <td>Austin</td>\n",
       "      <td>41.89983</td>\n",
       "      <td>-87.77412</td>\n",
       "      <td>11</td>\n",
       "      <td>60302</td>\n",
       "    </tr>\n",
       "    <tr>\n",
       "      <th>3</th>\n",
       "      <td>Flexible Apt. for 8 by Oak Park-CHI</td>\n",
       "      <td>Austin</td>\n",
       "      <td>41.90989</td>\n",
       "      <td>-87.78467</td>\n",
       "      <td>83</td>\n",
       "      <td>60302</td>\n",
       "    </tr>\n",
       "    <tr>\n",
       "      <th>4</th>\n",
       "      <td>Spacious bedroom with queen size bed</td>\n",
       "      <td>Austin</td>\n",
       "      <td>41.90961</td>\n",
       "      <td>-87.78498</td>\n",
       "      <td>16</td>\n",
       "      <td>60302</td>\n",
       "    </tr>\n",
       "  </tbody>\n",
       "</table>\n",
       "</div>"
      ],
      "text/plain": [
       "                                   name neighbourhood  latitude  longitude  \\\n",
       "0              perfect corporate rental     Hegewisch  41.65578  -87.53790   \n",
       "1            The Brummel Full Apartment   Rogers Park  42.02243  -87.68409   \n",
       "2              Chicago OakPark Connects        Austin  41.89983  -87.77412   \n",
       "3   Flexible Apt. for 8 by Oak Park-CHI        Austin  41.90989  -87.78467   \n",
       "4  Spacious bedroom with queen size bed        Austin  41.90961  -87.78498   \n",
       "\n",
       "   number_of_reviews  Zipcode  \n",
       "0                  2    46327  \n",
       "1                  0    60202  \n",
       "2                 11    60302  \n",
       "3                 83    60302  \n",
       "4                 16    60302  "
      ]
     },
     "execution_count": 122,
     "metadata": {},
     "output_type": "execute_result"
    }
   ],
   "source": [
    "airbnb_zipcode_df = airbnb_zipcode_df.sort_values(\"Zipcode\")\n",
    "airbnb_zipcode_sort = airbnb_zipcode_df.reset_index(drop=True)\n",
    "airbnb_zipcode_sort.head()"
   ]
  },
  {
   "cell_type": "code",
   "execution_count": 123,
   "metadata": {
    "scrolled": false
   },
   "outputs": [
    {
     "data": {
      "text/html": [
       "<div>\n",
       "<style scoped>\n",
       "    .dataframe tbody tr th:only-of-type {\n",
       "        vertical-align: middle;\n",
       "    }\n",
       "\n",
       "    .dataframe tbody tr th {\n",
       "        vertical-align: top;\n",
       "    }\n",
       "\n",
       "    .dataframe thead th {\n",
       "        text-align: right;\n",
       "    }\n",
       "</style>\n",
       "<table border=\"1\" class=\"dataframe\">\n",
       "  <thead>\n",
       "    <tr style=\"text-align: right;\">\n",
       "      <th></th>\n",
       "      <th>Zipcode</th>\n",
       "      <th>number_of_reviews</th>\n",
       "    </tr>\n",
       "  </thead>\n",
       "  <tbody>\n",
       "    <tr>\n",
       "      <th>4782</th>\n",
       "      <td>46327</td>\n",
       "      <td>2</td>\n",
       "    </tr>\n",
       "    <tr>\n",
       "      <th>8006</th>\n",
       "      <td>60202</td>\n",
       "      <td>0</td>\n",
       "    </tr>\n",
       "    <tr>\n",
       "      <th>4428</th>\n",
       "      <td>60302</td>\n",
       "      <td>11</td>\n",
       "    </tr>\n",
       "    <tr>\n",
       "      <th>1091</th>\n",
       "      <td>60302</td>\n",
       "      <td>83</td>\n",
       "    </tr>\n",
       "    <tr>\n",
       "      <th>4555</th>\n",
       "      <td>60302</td>\n",
       "      <td>16</td>\n",
       "    </tr>\n",
       "  </tbody>\n",
       "</table>\n",
       "</div>"
      ],
      "text/plain": [
       "      Zipcode  number_of_reviews\n",
       "4782    46327                  2\n",
       "8006    60202                  0\n",
       "4428    60302                 11\n",
       "1091    60302                 83\n",
       "4555    60302                 16"
      ]
     },
     "execution_count": 123,
     "metadata": {},
     "output_type": "execute_result"
    }
   ],
   "source": [
    "airbnb_zipcode_sort = airbnb_zipcode_df[[\"Zipcode\", \"number_of_reviews\"]]\n",
    "airbnb_zipcode_sort.head()"
   ]
  },
  {
   "cell_type": "code",
   "execution_count": 124,
   "metadata": {},
   "outputs": [
    {
     "data": {
      "text/plain": [
       "array([46327, 60202, 60302, 60304, 60456, 60501, 60601, 60602, 60603,\n",
       "       60604, 60605, 60606, 60607, 60608, 60609, 60610, 60611, 60612,\n",
       "       60613, 60614, 60615, 60616, 60617, 60618, 60619, 60620, 60621,\n",
       "       60622, 60623, 60624, 60625, 60626, 60628, 60629, 60630, 60631,\n",
       "       60632, 60633, 60634, 60636, 60637, 60638, 60639, 60640, 60641,\n",
       "       60642, 60643, 60644, 60645, 60646, 60647, 60649, 60651, 60652,\n",
       "       60653, 60654, 60656, 60657, 60659, 60660, 60661, 60707, 60712,\n",
       "       60805], dtype=int64)"
      ]
     },
     "execution_count": 124,
     "metadata": {},
     "output_type": "execute_result"
    }
   ],
   "source": [
    "zipcode_reviews[\"Zipcode\"].unique()"
   ]
  },
  {
   "cell_type": "code",
   "execution_count": 126,
   "metadata": {},
   "outputs": [
    {
     "data": {
      "text/html": [
       "<div>\n",
       "<style scoped>\n",
       "    .dataframe tbody tr th:only-of-type {\n",
       "        vertical-align: middle;\n",
       "    }\n",
       "\n",
       "    .dataframe tbody tr th {\n",
       "        vertical-align: top;\n",
       "    }\n",
       "\n",
       "    .dataframe thead th {\n",
       "        text-align: right;\n",
       "    }\n",
       "</style>\n",
       "<table border=\"1\" class=\"dataframe\">\n",
       "  <thead>\n",
       "    <tr style=\"text-align: right;\">\n",
       "      <th></th>\n",
       "      <th>Zipcode</th>\n",
       "      <th>number_of_reviews</th>\n",
       "    </tr>\n",
       "  </thead>\n",
       "  <tbody>\n",
       "    <tr>\n",
       "      <th>8006</th>\n",
       "      <td>60202</td>\n",
       "      <td>0</td>\n",
       "    </tr>\n",
       "    <tr>\n",
       "      <th>4428</th>\n",
       "      <td>60302</td>\n",
       "      <td>11</td>\n",
       "    </tr>\n",
       "    <tr>\n",
       "      <th>1091</th>\n",
       "      <td>60302</td>\n",
       "      <td>83</td>\n",
       "    </tr>\n",
       "    <tr>\n",
       "      <th>1400</th>\n",
       "      <td>60302</td>\n",
       "      <td>18</td>\n",
       "    </tr>\n",
       "    <tr>\n",
       "      <th>3514</th>\n",
       "      <td>60302</td>\n",
       "      <td>31</td>\n",
       "    </tr>\n",
       "  </tbody>\n",
       "</table>\n",
       "</div>"
      ],
      "text/plain": [
       "      Zipcode  number_of_reviews\n",
       "8006    60202                  0\n",
       "4428    60302                 11\n",
       "1091    60302                 83\n",
       "1400    60302                 18\n",
       "3514    60302                 31"
      ]
     },
     "execution_count": 126,
     "metadata": {},
     "output_type": "execute_result"
    }
   ],
   "source": [
    "zipcode_reviews_clean = zipcode_reviews.loc[zipcode_reviews[\"Zipcode\"] != 46327, :]\n",
    "zipcode_reviews_clean.head()"
   ]
  },
  {
   "cell_type": "code",
   "execution_count": 127,
   "metadata": {},
   "outputs": [
    {
     "data": {
      "text/plain": [
       "array([60202, 60302, 60304, 60456, 60501, 60601, 60602, 60603, 60604,\n",
       "       60605, 60606, 60607, 60608, 60609, 60610, 60611, 60612, 60613,\n",
       "       60614, 60615, 60616, 60617, 60618, 60619, 60620, 60621, 60622,\n",
       "       60623, 60624, 60625, 60626, 60628, 60629, 60630, 60631, 60632,\n",
       "       60633, 60634, 60636, 60637, 60638, 60639, 60640, 60641, 60642,\n",
       "       60643, 60644, 60645, 60646, 60647, 60649, 60651, 60652, 60653,\n",
       "       60654, 60656, 60657, 60659, 60660, 60661, 60707, 60712, 60805],\n",
       "      dtype=int64)"
      ]
     },
     "execution_count": 127,
     "metadata": {},
     "output_type": "execute_result"
    }
   ],
   "source": [
    "zipcode_reviews_clean[\"Zipcode\"].unique()"
   ]
  },
  {
   "cell_type": "code",
   "execution_count": 128,
   "metadata": {},
   "outputs": [
    {
     "data": {
      "text/html": [
       "<div>\n",
       "<style scoped>\n",
       "    .dataframe tbody tr th:only-of-type {\n",
       "        vertical-align: middle;\n",
       "    }\n",
       "\n",
       "    .dataframe tbody tr th {\n",
       "        vertical-align: top;\n",
       "    }\n",
       "\n",
       "    .dataframe thead th {\n",
       "        text-align: right;\n",
       "    }\n",
       "</style>\n",
       "<table border=\"1\" class=\"dataframe\">\n",
       "  <thead>\n",
       "    <tr style=\"text-align: right;\">\n",
       "      <th></th>\n",
       "      <th>number_of_reviews</th>\n",
       "    </tr>\n",
       "    <tr>\n",
       "      <th>Zipcode</th>\n",
       "      <th></th>\n",
       "    </tr>\n",
       "  </thead>\n",
       "  <tbody>\n",
       "    <tr>\n",
       "      <th>60202</th>\n",
       "      <td>0.000000</td>\n",
       "    </tr>\n",
       "    <tr>\n",
       "      <th>60302</th>\n",
       "      <td>37.142857</td>\n",
       "    </tr>\n",
       "    <tr>\n",
       "      <th>60304</th>\n",
       "      <td>1.000000</td>\n",
       "    </tr>\n",
       "    <tr>\n",
       "      <th>60456</th>\n",
       "      <td>2.000000</td>\n",
       "    </tr>\n",
       "    <tr>\n",
       "      <th>60501</th>\n",
       "      <td>0.000000</td>\n",
       "    </tr>\n",
       "  </tbody>\n",
       "</table>\n",
       "</div>"
      ],
      "text/plain": [
       "         number_of_reviews\n",
       "Zipcode                   \n",
       "60202             0.000000\n",
       "60302            37.142857\n",
       "60304             1.000000\n",
       "60456             2.000000\n",
       "60501             0.000000"
      ]
     },
     "execution_count": 128,
     "metadata": {},
     "output_type": "execute_result"
    }
   ],
   "source": [
    "grouped_zipcode = zipcode_reviews_clean.groupby(['Zipcode'])\n",
    "grouped_zipcode.mean().head()"
   ]
  },
  {
   "cell_type": "code",
   "execution_count": 129,
   "metadata": {},
   "outputs": [],
   "source": [
    "avg_reviews = grouped_zipcode.mean()[\"number_of_reviews\"]"
   ]
  },
  {
   "cell_type": "code",
   "execution_count": 130,
   "metadata": {},
   "outputs": [
    {
     "data": {
      "text/html": [
       "<div>\n",
       "<style scoped>\n",
       "    .dataframe tbody tr th:only-of-type {\n",
       "        vertical-align: middle;\n",
       "    }\n",
       "\n",
       "    .dataframe tbody tr th {\n",
       "        vertical-align: top;\n",
       "    }\n",
       "\n",
       "    .dataframe thead th {\n",
       "        text-align: right;\n",
       "    }\n",
       "</style>\n",
       "<table border=\"1\" class=\"dataframe\">\n",
       "  <thead>\n",
       "    <tr style=\"text-align: right;\">\n",
       "      <th></th>\n",
       "      <th>Total Reviews</th>\n",
       "    </tr>\n",
       "    <tr>\n",
       "      <th>Zipcode</th>\n",
       "      <th></th>\n",
       "    </tr>\n",
       "  </thead>\n",
       "  <tbody>\n",
       "    <tr>\n",
       "      <th>60202</th>\n",
       "      <td>0.000000</td>\n",
       "    </tr>\n",
       "    <tr>\n",
       "      <th>60302</th>\n",
       "      <td>37.142857</td>\n",
       "    </tr>\n",
       "    <tr>\n",
       "      <th>60304</th>\n",
       "      <td>1.000000</td>\n",
       "    </tr>\n",
       "    <tr>\n",
       "      <th>60456</th>\n",
       "      <td>2.000000</td>\n",
       "    </tr>\n",
       "    <tr>\n",
       "      <th>60501</th>\n",
       "      <td>0.000000</td>\n",
       "    </tr>\n",
       "  </tbody>\n",
       "</table>\n",
       "</div>"
      ],
      "text/plain": [
       "         Total Reviews\n",
       "Zipcode               \n",
       "60202         0.000000\n",
       "60302        37.142857\n",
       "60304         1.000000\n",
       "60456         2.000000\n",
       "60501         0.000000"
      ]
     },
     "execution_count": 130,
     "metadata": {},
     "output_type": "execute_result"
    }
   ],
   "source": [
    "airbnb_reviews_zipcode = pd.DataFrame({\"Total Reviews\": avg_reviews})\n",
    "airbnb_reviews_zipcode.head()"
   ]
  },
  {
   "cell_type": "code",
   "execution_count": 131,
   "metadata": {},
   "outputs": [],
   "source": [
    "airbnb_reviews_zipcode.to_csv(\"airbnb_reviews_zipcode.csv\", encoding=\"utf-8\")\n",
    "# grouped_zipcode.to_csv('airbnb_reviews_zipcode.csv')"
   ]
  },
  {
   "cell_type": "code",
   "execution_count": null,
   "metadata": {},
   "outputs": [],
   "source": []
  }
 ],
 "metadata": {
  "kernelspec": {
   "display_name": "Python 3",
   "language": "python",
   "name": "python3"
  },
  "language_info": {
   "codemirror_mode": {
    "name": "ipython",
    "version": 3
   },
   "file_extension": ".py",
   "mimetype": "text/x-python",
   "name": "python",
   "nbconvert_exporter": "python",
   "pygments_lexer": "ipython3",
   "version": "3.7.3"
  }
 },
 "nbformat": 4,
 "nbformat_minor": 2
}
