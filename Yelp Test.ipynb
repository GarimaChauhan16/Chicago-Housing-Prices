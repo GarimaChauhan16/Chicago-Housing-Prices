{
 "cells": [
  {
   "cell_type": "code",
   "execution_count": null,
   "metadata": {},
   "outputs": [],
   "source": [
    "import requests\n",
    "import json\n",
    "from config import y_api_key as api_key \n",
    "import pandas as pd\n",
    "import matplotlib.pyplot as plt\n",
    "%matplotlib notebook "
   ]
  },
  {
   "cell_type": "code",
   "execution_count": null,
   "metadata": {},
   "outputs": [],
   "source": [
    "#found in https://python.gotrained.com/yelp-fusion-api-tutorial/\n",
    "headers = {'Authorization': 'Bearer %s' % api_key}\n",
    "\n",
    "\n",
    "#pull in zipcode list\n",
    "zipcode_df=pd.read_csv(\"zipcode.csv\")\n",
    "#turn zipcode into a list\n",
    "zipcodes=zipcode_df['Zip Code'].tolist()\n",
    "\n",
    "\n",
    "#category of business you want to pull 1. nightlife\n",
    "categories = 'nightlife' \n",
    "#base url\n",
    "url='https://api.yelp.com/v3/businesses/search'\n",
    "#create a list for the number of returned categories in zipcode\n",
    "category_l = []\n",
    "#for every zipcode in the list return all businesses for the category searched and get rid of entries not within the zip and add to a total list\n",
    "for zipcode in zipcodes:\n",
    "    print(f'starting datapull for {zipcode}')\n",
    "    #create a list for all the pages returned\n",
    "    yelp_data = []\n",
    "    #the max returned businesses is 1000 and you can have 50 on a page so create a for loop to iterate through until get 400 code\n",
    "    #https://stackoverflow.com/questions/35525994/how-to-request-more-than-20-results-from-yelp-api\n",
    "    for offset in range(0, 1000, 50):\n",
    "        params = {\n",
    "            'limit': 50, \n",
    "            'location': zipcode,\n",
    "            'categories': categories,\n",
    "            'offset': offset\n",
    "        }\n",
    "\n",
    "        response = requests.get(url, headers=headers, params=params)\n",
    "        if response.status_code == 200:\n",
    "            #combine page with previous pages\n",
    "            yelp_data += response.json()['businesses']\n",
    "        elif response.status_code == 400:\n",
    "            print('400 Bad Request')\n",
    "            break\n",
    "    print(f'finished datapull for {zipcode}')\n",
    "    #create a blank zipcode list in preparation of pulling in zipcodes for each entry collected in the above yelp_data\n",
    "    zipcode_b =[]\n",
    "    #for each business in the yelp_data json, find the zip code and then append it to the zipcode_b list\n",
    "    for business in range(0,len(yelp_data)):\n",
    "        currentzip =str(yelp_data[business][\"location\"][\"zip_code\"])\n",
    "        if currentzip == str(zipcode):\n",
    "            zipcode_b.append(currentzip)\n",
    "            #print(currentzip)\n",
    "       # else:\n",
    "        #    print(f'Not correct zip :{currentzip} != {zipcode}')\n",
    "    #add to the category list with total number of categories from current zipcode you are looking at\n",
    "    numberinzip=len(zipcode_b)\n",
    "    category_l.append(numberinzip)\n",
    "    print(f'new appended category total: {numberinzip}  for {zipcode}')"
   ]
  },
  {
   "cell_type": "code",
   "execution_count": null,
   "metadata": {},
   "outputs": [],
   "source": [
    "#category of business you want to pull 2. restaurants\n",
    "categories = 'restaurants' \n",
    "#base url\n",
    "url='https://api.yelp.com/v3/businesses/search'\n",
    "#create a list for the number of returned categories in zipcode\n",
    "category_r = []\n",
    "#for every zipcode in the list return all businesses for the category searched and get rid of entries not within the zip and add to a total list\n",
    "for zipcode in zipcodes:\n",
    "    print(f'starting datapull for {zipcode}')\n",
    "    #create a list for all the pages returned\n",
    "    yelp_data = []\n",
    "    #the max returned businesses is 1000 and you can have 50 on a page so create a for loop to iterate through until get 400 code\n",
    "    #https://stackoverflow.com/questions/35525994/how-to-request-more-than-20-results-from-yelp-api\n",
    "    for offset in range(0, 1000, 50):\n",
    "        params = {\n",
    "            'limit': 50, \n",
    "            'location': zipcode,\n",
    "            'categories': categories,\n",
    "            'offset': offset\n",
    "        }\n",
    "\n",
    "        response = requests.get(url, headers=headers, params=params)\n",
    "        if response.status_code == 200:\n",
    "            #combine page with previous pages\n",
    "            yelp_data += response.json()['businesses']\n",
    "        elif response.status_code == 400:\n",
    "            print('400 Bad Request')\n",
    "            break\n",
    "    print(f'finished datapull for {zipcode}')\n",
    "    #create a blank zipcode list in preparation of pulling in zipcodes for each entry collected in the above yelp_data\n",
    "    zipcode_b =[]\n",
    "    #for each business in the yelp_data json, find the zip code and then append it to the zipcode_b list\n",
    "    for business in range(0,len(yelp_data)):\n",
    "        currentzip =str(yelp_data[business][\"location\"][\"zip_code\"])\n",
    "        if currentzip == str(zipcode):\n",
    "            zipcode_b.append(currentzip)\n",
    "            #print(currentzip)\n",
    "       # else:\n",
    "        #    print(f'Not correct zip :{currentzip} != {zipcode}')\n",
    "    #add to the category list with total number of categories from current zipcode you are looking at\n",
    "    numberinzip=len(zipcode_b)\n",
    "    category_r.append(numberinzip)\n",
    "    print(f'new appended category total: {numberinzip}  for {zipcode}')"
   ]
  },
  {
   "cell_type": "code",
   "execution_count": null,
   "metadata": {},
   "outputs": [],
   "source": [
    "#category of business you want to pull 3. grocery\n",
    "categories = 'grocery' \n",
    "#base url\n",
    "url='https://api.yelp.com/v3/businesses/search'\n",
    "#create a list for the number of returned categories in zipcode\n",
    "category_g = []\n",
    "#for every zipcode in the list return all businesses for the category searched and get rid of entries not within the zip and add to a total list\n",
    "for zipcode in zipcodes:\n",
    "    print(f'starting datapull for {zipcode}')\n",
    "    #create a list for all the pages returned\n",
    "    yelp_data = []\n",
    "    #the max returned businesses is 1000 and you can have 50 on a page so create a for loop to iterate through until get 400 code\n",
    "    #https://stackoverflow.com/questions/35525994/how-to-request-more-than-20-results-from-yelp-api\n",
    "    for offset in range(0, 1000, 50):\n",
    "        params = {\n",
    "            'limit': 50, \n",
    "            'location': zipcode,\n",
    "            'categories': categories,\n",
    "            'offset': offset\n",
    "        }\n",
    "\n",
    "        response = requests.get(url, headers=headers, params=params)\n",
    "        if response.status_code == 200:\n",
    "            #combine page with previous pages\n",
    "            yelp_data += response.json()['businesses']\n",
    "        elif response.status_code == 400:\n",
    "            print('400 Bad Request')\n",
    "            break\n",
    "    print(f'finished datapull for {zipcode}')\n",
    "    #create a blank zipcode list in preparation of pulling in zipcodes for each entry collected in the above yelp_data\n",
    "    zipcode_b =[]\n",
    "    #for each business in the yelp_data json, find the zip code and then append it to the zipcode_b list\n",
    "    for business in range(0,len(yelp_data)):\n",
    "        currentzip =str(yelp_data[business][\"location\"][\"zip_code\"])\n",
    "        if currentzip == str(zipcode):\n",
    "            zipcode_b.append(currentzip)\n",
    "            #print(currentzip)\n",
    "       # else:\n",
    "        #    print(f'Not correct zip :{currentzip} != {zipcode}')\n",
    "    #add to the category list with total number of categories from current zipcode you are looking at\n",
    "    numberinzip=len(zipcode_b)\n",
    "    category_g.append(numberinzip)\n",
    "    print(f'new appended category total: {numberinzip}  for {zipcode}')"
   ]
  },
  {
   "cell_type": "code",
   "execution_count": null,
   "metadata": {},
   "outputs": [],
   "source": [
    "yelp_df=pd.DataFrame({\"ZipCode\":zipcodes, \"Total Nightlife\": category_l, \"Total Restaurant\": category_r})\n",
    "yelp_df.to_csv(\"yelp_nightlife_restaurant.csv\", encoding=\"utf-8\", index=False)"
   ]
  },
  {
   "cell_type": "code",
   "execution_count": null,
   "metadata": {},
   "outputs": [],
   "source": [
    "yelp_g_df=pd.DataFrame({\"ZipCode\": zipcodes, \"Total Grocery\": category_g})\n",
    "yelp_g_df.to_csv(\"yelp_grocery.csv\", encoding=\"utf-8\", index=False)"
   ]
  },
  {
   "cell_type": "code",
   "execution_count": 1,
   "metadata": {},
   "outputs": [
    {
     "data": {
      "text/html": [
       "<div>\n",
       "<style scoped>\n",
       "    .dataframe tbody tr th:only-of-type {\n",
       "        vertical-align: middle;\n",
       "    }\n",
       "\n",
       "    .dataframe tbody tr th {\n",
       "        vertical-align: top;\n",
       "    }\n",
       "\n",
       "    .dataframe thead th {\n",
       "        text-align: right;\n",
       "    }\n",
       "</style>\n",
       "<table border=\"1\" class=\"dataframe\">\n",
       "  <thead>\n",
       "    <tr style=\"text-align: right;\">\n",
       "      <th></th>\n",
       "      <th>ZipCode</th>\n",
       "      <th>Total Nightlife</th>\n",
       "      <th>Total Restaurant</th>\n",
       "      <th>Total Grocery</th>\n",
       "    </tr>\n",
       "  </thead>\n",
       "  <tbody>\n",
       "    <tr>\n",
       "      <th>0</th>\n",
       "      <td>60601</td>\n",
       "      <td>47</td>\n",
       "      <td>149</td>\n",
       "      <td>7</td>\n",
       "    </tr>\n",
       "    <tr>\n",
       "      <th>1</th>\n",
       "      <td>60602</td>\n",
       "      <td>11</td>\n",
       "      <td>78</td>\n",
       "      <td>0</td>\n",
       "    </tr>\n",
       "    <tr>\n",
       "      <th>2</th>\n",
       "      <td>60603</td>\n",
       "      <td>22</td>\n",
       "      <td>97</td>\n",
       "      <td>1</td>\n",
       "    </tr>\n",
       "    <tr>\n",
       "      <th>3</th>\n",
       "      <td>60604</td>\n",
       "      <td>5</td>\n",
       "      <td>41</td>\n",
       "      <td>0</td>\n",
       "    </tr>\n",
       "    <tr>\n",
       "      <th>4</th>\n",
       "      <td>60605</td>\n",
       "      <td>34</td>\n",
       "      <td>113</td>\n",
       "      <td>7</td>\n",
       "    </tr>\n",
       "  </tbody>\n",
       "</table>\n",
       "</div>"
      ],
      "text/plain": [
       "   ZipCode  Total Nightlife  Total Restaurant  Total Grocery\n",
       "0    60601               47               149              7\n",
       "1    60602               11                78              0\n",
       "2    60603               22                97              1\n",
       "3    60604                5                41              0\n",
       "4    60605               34               113              7"
      ]
     },
     "execution_count": 1,
     "metadata": {},
     "output_type": "execute_result"
    }
   ],
   "source": [
    "#import csvs as DataFrames so do not have to re-run yelp api \n",
    "import pandas as pd\n",
    "import matplotlib.pyplot as plt\n",
    "import os\n",
    "# %matplotlib notebook\n",
    "yelp_df = pd.read_csv('yelp_nightlife_restaurant.csv')\n",
    "yelp_g_df = pd.read_csv('yelp_grocery.csv')\n",
    "\n",
    "#merge all yelp data\n",
    "yelp_complete = pd.merge(yelp_df, yelp_g_df, how='inner', on='ZipCode' )\n",
    "yelp_complete.head()"
   ]
  },
  {
   "cell_type": "code",
   "execution_count": 2,
   "metadata": {},
   "outputs": [
    {
     "data": {
      "text/html": [
       "<div>\n",
       "<style scoped>\n",
       "    .dataframe tbody tr th:only-of-type {\n",
       "        vertical-align: middle;\n",
       "    }\n",
       "\n",
       "    .dataframe tbody tr th {\n",
       "        vertical-align: top;\n",
       "    }\n",
       "\n",
       "    .dataframe thead th {\n",
       "        text-align: right;\n",
       "    }\n",
       "</style>\n",
       "<table border=\"1\" class=\"dataframe\">\n",
       "  <thead>\n",
       "    <tr style=\"text-align: right;\">\n",
       "      <th></th>\n",
       "      <th>Zipcode</th>\n",
       "      <th>Total Nightlife</th>\n",
       "      <th>Total Restaurant</th>\n",
       "      <th>Total Grocery</th>\n",
       "    </tr>\n",
       "  </thead>\n",
       "  <tbody>\n",
       "    <tr>\n",
       "      <th>0</th>\n",
       "      <td>60601</td>\n",
       "      <td>47</td>\n",
       "      <td>149</td>\n",
       "      <td>7</td>\n",
       "    </tr>\n",
       "    <tr>\n",
       "      <th>1</th>\n",
       "      <td>60602</td>\n",
       "      <td>11</td>\n",
       "      <td>78</td>\n",
       "      <td>0</td>\n",
       "    </tr>\n",
       "    <tr>\n",
       "      <th>2</th>\n",
       "      <td>60603</td>\n",
       "      <td>22</td>\n",
       "      <td>97</td>\n",
       "      <td>1</td>\n",
       "    </tr>\n",
       "    <tr>\n",
       "      <th>3</th>\n",
       "      <td>60604</td>\n",
       "      <td>5</td>\n",
       "      <td>41</td>\n",
       "      <td>0</td>\n",
       "    </tr>\n",
       "    <tr>\n",
       "      <th>4</th>\n",
       "      <td>60605</td>\n",
       "      <td>34</td>\n",
       "      <td>113</td>\n",
       "      <td>7</td>\n",
       "    </tr>\n",
       "  </tbody>\n",
       "</table>\n",
       "</div>"
      ],
      "text/plain": [
       "   Zipcode  Total Nightlife  Total Restaurant  Total Grocery\n",
       "0    60601               47               149              7\n",
       "1    60602               11                78              0\n",
       "2    60603               22                97              1\n",
       "3    60604                5                41              0\n",
       "4    60605               34               113              7"
      ]
     },
     "execution_count": 2,
     "metadata": {},
     "output_type": "execute_result"
    }
   ],
   "source": [
    "yelp_complete = yelp_complete.rename(columns={'ZipCode':'Zipcode'})\n",
    "yelp_complete.head()"
   ]
  },
  {
   "cell_type": "code",
   "execution_count": 3,
   "metadata": {},
   "outputs": [
    {
     "data": {
      "text/html": [
       "<div>\n",
       "<style scoped>\n",
       "    .dataframe tbody tr th:only-of-type {\n",
       "        vertical-align: middle;\n",
       "    }\n",
       "\n",
       "    .dataframe tbody tr th {\n",
       "        vertical-align: top;\n",
       "    }\n",
       "\n",
       "    .dataframe thead th {\n",
       "        text-align: right;\n",
       "    }\n",
       "</style>\n",
       "<table border=\"1\" class=\"dataframe\">\n",
       "  <thead>\n",
       "    <tr style=\"text-align: right;\">\n",
       "      <th></th>\n",
       "      <th>Zipcode</th>\n",
       "      <th>Median Rent</th>\n",
       "      <th>Median Home Value</th>\n",
       "    </tr>\n",
       "  </thead>\n",
       "  <tbody>\n",
       "    <tr>\n",
       "      <th>0</th>\n",
       "      <td>60601</td>\n",
       "      <td>1944.0</td>\n",
       "      <td>391100.0</td>\n",
       "    </tr>\n",
       "    <tr>\n",
       "      <th>1</th>\n",
       "      <td>60602</td>\n",
       "      <td>1666.0</td>\n",
       "      <td>NaN</td>\n",
       "    </tr>\n",
       "    <tr>\n",
       "      <th>2</th>\n",
       "      <td>60603</td>\n",
       "      <td>1630.0</td>\n",
       "      <td>NaN</td>\n",
       "    </tr>\n",
       "    <tr>\n",
       "      <th>3</th>\n",
       "      <td>60604</td>\n",
       "      <td>1835.0</td>\n",
       "      <td>NaN</td>\n",
       "    </tr>\n",
       "    <tr>\n",
       "      <th>4</th>\n",
       "      <td>60605</td>\n",
       "      <td>1865.0</td>\n",
       "      <td>284100.0</td>\n",
       "    </tr>\n",
       "  </tbody>\n",
       "</table>\n",
       "</div>"
      ],
      "text/plain": [
       "   Zipcode  Median Rent  Median Home Value\n",
       "0    60601       1944.0           391100.0\n",
       "1    60602       1666.0                NaN\n",
       "2    60603       1630.0                NaN\n",
       "3    60604       1835.0                NaN\n",
       "4    60605       1865.0           284100.0"
      ]
     },
     "execution_count": 3,
     "metadata": {},
     "output_type": "execute_result"
    }
   ],
   "source": [
    "housing_df=pd.read_csv(\"housing_data.csv\")\n",
    "housing_df.head()"
   ]
  },
  {
   "cell_type": "code",
   "execution_count": 4,
   "metadata": {},
   "outputs": [],
   "source": [
    "yelp_housing_df = pd.merge(yelp_complete, housing_df, how='inner', on='Zipcode')\n"
   ]
  },
  {
   "cell_type": "code",
   "execution_count": 5,
   "metadata": {},
   "outputs": [
    {
     "data": {
      "text/html": [
       "<div>\n",
       "<style scoped>\n",
       "    .dataframe tbody tr th:only-of-type {\n",
       "        vertical-align: middle;\n",
       "    }\n",
       "\n",
       "    .dataframe tbody tr th {\n",
       "        vertical-align: top;\n",
       "    }\n",
       "\n",
       "    .dataframe thead th {\n",
       "        text-align: right;\n",
       "    }\n",
       "</style>\n",
       "<table border=\"1\" class=\"dataframe\">\n",
       "  <thead>\n",
       "    <tr style=\"text-align: right;\">\n",
       "      <th></th>\n",
       "      <th>Zipcode</th>\n",
       "      <th>Population</th>\n",
       "    </tr>\n",
       "  </thead>\n",
       "  <tbody>\n",
       "    <tr>\n",
       "      <th>0</th>\n",
       "      <td>60601</td>\n",
       "      <td>13887</td>\n",
       "    </tr>\n",
       "    <tr>\n",
       "      <th>1</th>\n",
       "      <td>60602</td>\n",
       "      <td>1277</td>\n",
       "    </tr>\n",
       "    <tr>\n",
       "      <th>2</th>\n",
       "      <td>60603</td>\n",
       "      <td>1197</td>\n",
       "    </tr>\n",
       "    <tr>\n",
       "      <th>3</th>\n",
       "      <td>60604</td>\n",
       "      <td>668</td>\n",
       "    </tr>\n",
       "    <tr>\n",
       "      <th>4</th>\n",
       "      <td>60605</td>\n",
       "      <td>26188</td>\n",
       "    </tr>\n",
       "  </tbody>\n",
       "</table>\n",
       "</div>"
      ],
      "text/plain": [
       "   Zipcode  Population\n",
       "0    60601       13887\n",
       "1    60602        1277\n",
       "2    60603        1197\n",
       "3    60604         668\n",
       "4    60605       26188"
      ]
     },
     "execution_count": 5,
     "metadata": {},
     "output_type": "execute_result"
    }
   ],
   "source": [
    "file_path = os.path.join('Census_Data', 'chicago_census_data.csv')\n",
    "chicago_df=pd.read_csv(file_path)\n",
    "chicago_df.head()\n",
    "chicago_df = chicago_df[['Zipcode','Population']]\n",
    "chicago_df.head()"
   ]
  },
  {
   "cell_type": "code",
   "execution_count": 6,
   "metadata": {},
   "outputs": [],
   "source": [
    "yelp_housing = pd.merge(chicago_df, yelp_housing_df, how='inner', on='Zipcode')"
   ]
  },
  {
   "cell_type": "code",
   "execution_count": 7,
   "metadata": {},
   "outputs": [
    {
     "data": {
      "text/html": [
       "<div>\n",
       "<style scoped>\n",
       "    .dataframe tbody tr th:only-of-type {\n",
       "        vertical-align: middle;\n",
       "    }\n",
       "\n",
       "    .dataframe tbody tr th {\n",
       "        vertical-align: top;\n",
       "    }\n",
       "\n",
       "    .dataframe thead th {\n",
       "        text-align: right;\n",
       "    }\n",
       "</style>\n",
       "<table border=\"1\" class=\"dataframe\">\n",
       "  <thead>\n",
       "    <tr style=\"text-align: right;\">\n",
       "      <th></th>\n",
       "      <th>Zipcode</th>\n",
       "      <th>Population</th>\n",
       "      <th>Total Nightlife</th>\n",
       "      <th>Total Restaurant</th>\n",
       "      <th>Total Grocery</th>\n",
       "      <th>Median Rent</th>\n",
       "      <th>Median Home Value</th>\n",
       "    </tr>\n",
       "  </thead>\n",
       "  <tbody>\n",
       "    <tr>\n",
       "      <th>0</th>\n",
       "      <td>60601</td>\n",
       "      <td>13887</td>\n",
       "      <td>47</td>\n",
       "      <td>149</td>\n",
       "      <td>7</td>\n",
       "      <td>1944.0</td>\n",
       "      <td>391100.0</td>\n",
       "    </tr>\n",
       "    <tr>\n",
       "      <th>1</th>\n",
       "      <td>60602</td>\n",
       "      <td>1277</td>\n",
       "      <td>11</td>\n",
       "      <td>78</td>\n",
       "      <td>0</td>\n",
       "      <td>1666.0</td>\n",
       "      <td>NaN</td>\n",
       "    </tr>\n",
       "    <tr>\n",
       "      <th>2</th>\n",
       "      <td>60603</td>\n",
       "      <td>1197</td>\n",
       "      <td>22</td>\n",
       "      <td>97</td>\n",
       "      <td>1</td>\n",
       "      <td>1630.0</td>\n",
       "      <td>NaN</td>\n",
       "    </tr>\n",
       "    <tr>\n",
       "      <th>3</th>\n",
       "      <td>60604</td>\n",
       "      <td>668</td>\n",
       "      <td>5</td>\n",
       "      <td>41</td>\n",
       "      <td>0</td>\n",
       "      <td>1835.0</td>\n",
       "      <td>NaN</td>\n",
       "    </tr>\n",
       "    <tr>\n",
       "      <th>4</th>\n",
       "      <td>60605</td>\n",
       "      <td>26188</td>\n",
       "      <td>34</td>\n",
       "      <td>113</td>\n",
       "      <td>7</td>\n",
       "      <td>1865.0</td>\n",
       "      <td>284100.0</td>\n",
       "    </tr>\n",
       "  </tbody>\n",
       "</table>\n",
       "</div>"
      ],
      "text/plain": [
       "   Zipcode  Population  Total Nightlife  Total Restaurant  Total Grocery  \\\n",
       "0    60601       13887               47               149              7   \n",
       "1    60602        1277               11                78              0   \n",
       "2    60603        1197               22                97              1   \n",
       "3    60604         668                5                41              0   \n",
       "4    60605       26188               34               113              7   \n",
       "\n",
       "   Median Rent  Median Home Value  \n",
       "0       1944.0           391100.0  \n",
       "1       1666.0                NaN  \n",
       "2       1630.0                NaN  \n",
       "3       1835.0                NaN  \n",
       "4       1865.0           284100.0  "
      ]
     },
     "execution_count": 7,
     "metadata": {},
     "output_type": "execute_result"
    }
   ],
   "source": [
    "yelp_housing.head()"
   ]
  },
  {
   "cell_type": "code",
   "execution_count": 9,
   "metadata": {},
   "outputs": [],
   "source": [
    "yelp_housing['Nightlife per Capita'] = (yelp_housing['Total Nightlife']/ yelp_housing['Population'])*1000\n",
    "yelp_housing['Restaurants per Capita'] = (yelp_housing['Total Restaurant']/ yelp_housing['Population'])*1000\n",
    "yelp_housing['Grocery per Capita'] = (yelp_housing['Total Grocery']/ yelp_housing['Population'])*1000\n",
    "\n",
    "yelp_housing.head()\n",
    "pd\n",
    "yelp_housing.to_csv(\"yelp housing and population.csv\", encoding=\"utf-8\", index=False)"
   ]
  },
  {
   "cell_type": "code",
   "execution_count": 10,
   "metadata": {},
   "outputs": [
    {
     "data": {
      "image/png": "[encoded data removed]",
      "text/plain": [
       "<Figure size 432x288 with 1 Axes>"
      ]
     },
     "metadata": {
      "needs_background": "light"
     },
     "output_type": "display_data"
    }
   ],
   "source": [
    "x = yelp_housing['Nightlife per Capita']\n",
    "y = yelp_housing['Median Rent']\n",
    "\n",
    "plt.scatter(x, y,)\n",
    "plt.xlabel('Nightlife Establishments per 1000')\n",
    "plt.ylabel('Median Rent ($)')\n",
    "plt.title('Median Rent vs.Nightlife Establishments per 1000')\n",
    "plt.savefig('Median Rent vs Nightlife per 1000')\n",
    "plt.show()"
   ]
  },
  {
   "cell_type": "code",
   "execution_count": 11,
   "metadata": {},
   "outputs": [
    {
     "data": {
      "image/png": "[encoded data removed]",
      "text/plain": [
       "<Figure size 432x288 with 1 Axes>"
      ]
     },
     "metadata": {
      "needs_background": "light"
     },
     "output_type": "display_data"
    }
   ],
   "source": [
    "x = yelp_housing_df['Total Nightlife']\n",
    "y = yelp_housing_df['Median Rent']\n",
    "\n",
    "plt.scatter(x, y,)\n",
    "plt.xlabel('Number of Nightlife Establishments')\n",
    "plt.ylabel('Median Rent ($)')\n",
    "plt.title('Median Rent vs. Number of Nightlife Establishments per Zipcode')\n",
    "plt.savefig('Median Rent vs Nightlife')\n",
    "plt.show()"
   ]
  },
  {
   "cell_type": "code",
   "execution_count": 14,
   "metadata": {
    "scrolled": true
   },
   "outputs": [
    {
     "data": {
      "image/png": "[encoded data removed]",
      "text/plain": [
       "<Figure size 432x288 with 1 Axes>"
      ]
     },
     "metadata": {
      "needs_background": "light"
     },
     "output_type": "display_data"
    }
   ],
   "source": [
    "x = yelp_housing['Restaurants per Capita']\n",
    "y = yelp_housing['Median Rent']\n",
    "\n",
    "plt.scatter(x, y,)\n",
    "plt.xlabel('Number of Restaurants per 1000')\n",
    "plt.ylabel('Median Rent ($)')\n",
    "plt.title('Median Rent vs. Restaurants per 1000')\n",
    "plt.savefig('Median Rent vs Restaurants per 1000')\n",
    "plt.show()"
   ]
  },
  {
   "cell_type": "code",
   "execution_count": 35,
   "metadata": {
    "scrolled": true
   },
   "outputs": [
    {
     "data": {
      "image/png": "[encoded data removed]",
      "text/plain": [
       "<Figure size 432x288 with 1 Axes>"
      ]
     },
     "metadata": {
      "needs_background": "light"
     },
     "output_type": "display_data"
    }
   ],
   "source": [
    "x = yelp_housing_df['Total Restaurant']\n",
    "y = yelp_housing_df['Median Rent']\n",
    "\n",
    "plt.scatter(x, y,)\n",
    "plt.xlabel('Number of Restaurants')\n",
    "plt.ylabel('Median Rent ($)')\n",
    "plt.title('Median Rent vs. Number of Restaurants per Zipcode')\n",
    "plt.savefig('Median Rent vs Restaurants')\n",
    "plt.show()"
   ]
  },
  {
   "cell_type": "code",
   "execution_count": 15,
   "metadata": {},
   "outputs": [
    {
     "data": {
      "image/png": "[encoded data removed]",
      "text/plain": [
       "<Figure size 432x288 with 1 Axes>"
      ]
     },
     "metadata": {
      "needs_background": "light"
     },
     "output_type": "display_data"
    }
   ],
   "source": [
    "x = yelp_housing['Grocery per Capita']\n",
    "y = yelp_housing['Median Rent']\n",
    "\n",
    "plt.scatter(x, y,)\n",
    "plt.xlabel('Grocery Stores per 1000')\n",
    "plt.ylabel('Median Rent ($)')\n",
    "plt.title('Median Rent vs. Grocery Stores per 1000')\n",
    "plt.savefig('Median Rent vs Grocery Stores per 1000')\n",
    "plt.show()"
   ]
  },
  {
   "cell_type": "code",
   "execution_count": 36,
   "metadata": {},
   "outputs": [
    {
     "data": {
      "image/png": "[encoded data removed]",
      "text/plain": [
       "<Figure size 432x288 with 1 Axes>"
      ]
     },
     "metadata": {
      "needs_background": "light"
     },
     "output_type": "display_data"
    }
   ],
   "source": [
    "x = yelp_housing['Total Grocery']\n",
    "y = yelp_housing['Median Rent']\n",
    "\n",
    "plt.scatter(x, y,)\n",
    "plt.xlabel('Number of Grocery Stores')\n",
    "plt.ylabel('Median Rent ($)')\n",
    "plt.title('Median Rent vs. Number of Grocery Stores per Zipcode')\n",
    "plt.savefig('Median Rent vs Grocery Stores')\n",
    "plt.show()"
   ]
  },
  {
   "cell_type": "code",
   "execution_count": null,
   "metadata": {},
   "outputs": [],
   "source": []
  }
 ],
 "metadata": {
  "kernelspec": {
   "display_name": "Python 3",
   "language": "python",
   "name": "python3"
  },
  "language_info": {
   "codemirror_mode": {
    "name": "ipython",
    "version": 3
   },
   "file_extension": ".py",
   "mimetype": "text/x-python",
   "name": "python",
   "nbconvert_exporter": "python",
   "pygments_lexer": "ipython3",
   "version": "3.7.3"
  }
 },
 "nbformat": 4,
 "nbformat_minor": 2
}
